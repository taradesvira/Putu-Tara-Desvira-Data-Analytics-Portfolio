{
 "cells": [
  {
   "cell_type": "markdown",
   "id": "4faa09df",
   "metadata": {},
   "source": [
    "# A. Business Background"
   ]
  },
  {
   "cell_type": "markdown",
   "id": "69ecc081",
   "metadata": {},
   "source": [
    "**Company X** is an Indonesian investment startup that offers a platform for buying and selling mutual funds, including stock mutual funds, bond mutual funds, money market mutual funds, and mixed-investment mutual funds. To gain insights into user preferences and identify any patterns within the demographic and daily transaction data, I have conducted thorough data cleaning, manipulation, exploratory data analysis (EDA), and descriptive analysis of the dataset.\n",
    "\n",
    "The main objective of this analysis is to **identify any discernible trends** or patterns within the data that can inform the development of effective marketing campaigns for the next month. By analyzing user behavior and preferences, I aim to tailor the marketing strategies to the specific needs and interests of the company's target audience, ultimately increasing engagement and driving growth for the business. Through this data analysis efforts, I hope to gain valuable insights that can inform our decision-making and optimize our marketing efforts to deliver the greatest possible impact.\n",
    "\n",
    "> **User Dataset:** https://docs.google.com/spreadsheets/d/1Y4EdCS6DgdflozgD38mMZf3L9_CG8AYXvNQ6mA5Nrr8/edit#gid=0\n",
    "\n",
    "\n",
    "> **User Daily Transaction Dataset:** https://docs.google.com/spreadsheets/d/1pM6N_8z_-n2GOLmHNr5pAR9OcfV2cyL5-UIf7L3yfPE/edit#gid=0\n",
    "\n",
    "\n",
    "> **Data Dictionary:** https://docs.google.com/spreadsheets/d/1yenHlMpXHUoct3MfbGrF3IVH7GBSKvRafjF2YnRVlkQ/edit?usp=sharing\n"
   ]
  },
  {
   "cell_type": "markdown",
   "id": "22208abb",
   "metadata": {},
   "source": [
    "# B. Data Preparation"
   ]
  },
  {
   "cell_type": "markdown",
   "id": "ed749990",
   "metadata": {},
   "source": [
    "## a. Importing Libraries"
   ]
  },
  {
   "cell_type": "code",
   "execution_count": 1,
   "id": "d0c6e256",
   "metadata": {},
   "outputs": [],
   "source": [
    "import pandas as pd                 # Library used for working with data sets and perform data analysis.\n",
    "import numpy as np                  # To perform mathematical operasion and statistics\n",
    "import matplotlib.pyplot as plt     # To perform data visualization\n",
    "from datetime import datetime       # Used to perform dates and time manipulation\n",
    "import seaborn as sns               # To perform data visualization"
   ]
  },
  {
   "cell_type": "markdown",
   "id": "4e9e90e9",
   "metadata": {},
   "source": [
    "## b. Importing Datasets"
   ]
  },
  {
   "cell_type": "code",
   "execution_count": 2,
   "id": "7f775fe9",
   "metadata": {},
   "outputs": [
    {
     "name": "stdout",
     "output_type": "stream",
     "text": [
      "<class 'pandas.core.frame.DataFrame'>\n",
      "RangeIndex: 14712 entries, 0 to 14711\n",
      "Data columns (total 11 columns):\n",
      " #   Column                        Non-Null Count  Dtype \n",
      "---  ------                        --------------  ----- \n",
      " 0   user_id                       14712 non-null  int64 \n",
      " 1   registration_import_datetime  14712 non-null  object\n",
      " 2   user_gender                   14712 non-null  object\n",
      " 3   user_age                      14712 non-null  int64 \n",
      " 4   user_occupation               14712 non-null  object\n",
      " 5   user_income_range             14712 non-null  object\n",
      " 6   referral_code_used            5604 non-null   object\n",
      " 7   user_income_source            14712 non-null  object\n",
      " 8   end_of_month_invested_amount  14712 non-null  int64 \n",
      " 9   total_buy_amount              14712 non-null  int64 \n",
      " 10  total_sell_amount             14712 non-null  int64 \n",
      "dtypes: int64(5), object(6)\n",
      "memory usage: 1.2+ MB\n"
     ]
    }
   ],
   "source": [
    "# Importing User data\n",
    "\n",
    "user_url = 'https://docs.google.com/spreadsheets/d/1Y4EdCS6DgdflozgD38mMZf3L9_CG8AYXvNQ6mA5Nrr8/edit#gid=0'\n",
    "user_url_trf = user_url.replace('/edit#gid=', '/export?format=csv&gid=')\n",
    "df1 = pd.read_csv(user_url_trf)\n",
    "\n",
    "df1.info()"
   ]
  },
  {
   "cell_type": "code",
   "execution_count": 3,
   "id": "a99eff44",
   "metadata": {},
   "outputs": [
    {
     "name": "stdout",
     "output_type": "stream",
     "text": [
      "<class 'pandas.core.frame.DataFrame'>\n",
      "RangeIndex: 158811 entries, 0 to 158810\n",
      "Data columns (total 17 columns):\n",
      " #   Column                                    Non-Null Count   Dtype  \n",
      "---  ------                                    --------------   -----  \n",
      " 0   user_id                                   158811 non-null  int64  \n",
      " 1   date                                      158811 non-null  object \n",
      " 2   buy_saham_transaction_amount              99031 non-null   float64\n",
      " 3   sell_saham_transaction_amount             1808 non-null    float64\n",
      " 4   buy_pasar_uang_transaction_amount         122263 non-null  float64\n",
      " 5   sell_pasar_uang_transaction_amount        2010 non-null    float64\n",
      " 6   buy_pendapatan_tetap_transaction_amount   98916 non-null   float64\n",
      " 7   sell_pendapatan_tetap_transaction_amount  1581 non-null    float64\n",
      " 8   buy_campuran_transaction_amount           5072 non-null    float64\n",
      " 9   sell_campuran_transaction_amount          46 non-null      float64\n",
      " 10  total_buy_transaction_amount              158811 non-null  int64  \n",
      " 11  total_sell_transaction_amount             158811 non-null  int64  \n",
      " 12  saham_invested_amount                     106292 non-null  float64\n",
      " 13  pasar_uang_invested_amount                131081 non-null  float64\n",
      " 14  pendapatan_tetap_invested_amount          105946 non-null  float64\n",
      " 15  campuran_invested_amount                  5352 non-null    float64\n",
      " 16  total_invested_amount                     158811 non-null  int64  \n",
      "dtypes: float64(12), int64(4), object(1)\n",
      "memory usage: 20.6+ MB\n"
     ]
    }
   ],
   "source": [
    "# Importing daily_user_transcation data\n",
    "\n",
    "transaction_url = 'https://docs.google.com/spreadsheets/d/1pM6N_8z_-n2GOLmHNr5pAR9OcfV2cyL5-UIf7L3yfPE/edit#gid=0'\n",
    "transaction_url_trf = transaction_url.replace('/edit#gid=', '/export?format=csv&gid=')\n",
    "df2 = pd.read_csv(transaction_url_trf)\n",
    "\n",
    "df2.info()"
   ]
  },
  {
   "cell_type": "markdown",
   "id": "24511146",
   "metadata": {},
   "source": [
    "# C. Data Cleaning"
   ]
  },
  {
   "cell_type": "markdown",
   "id": "df6d5ad1",
   "metadata": {},
   "source": [
    "## a. User"
   ]
  },
  {
   "cell_type": "markdown",
   "id": "91534425",
   "metadata": {},
   "source": [
    "### **1. Handling Missing Values**"
   ]
  },
  {
   "cell_type": "code",
   "execution_count": 4,
   "id": "19c4218d",
   "metadata": {},
   "outputs": [
    {
     "data": {
      "text/plain": [
       "user_id                            0\n",
       "registration_import_datetime       0\n",
       "user_gender                        0\n",
       "user_age                           0\n",
       "user_occupation                    0\n",
       "user_income_range                  0\n",
       "referral_code_used              9108\n",
       "user_income_source                 0\n",
       "end_of_month_invested_amount       0\n",
       "total_buy_amount                   0\n",
       "total_sell_amount                  0\n",
       "dtype: int64"
      ]
     },
     "execution_count": 4,
     "metadata": {},
     "output_type": "execute_result"
    }
   ],
   "source": [
    "# Calculating the total rows with missing values on each columns in User data (df1)\n",
    "\n",
    "df1.isna().sum()"
   ]
  },
  {
   "cell_type": "markdown",
   "id": "8f3173f4",
   "metadata": {},
   "source": [
    "**Insight:**\n",
    "\n",
    "\n",
    "*   9108 null values in 'referral_code_used' column\n",
    "*   The null values in column referral_code_used will be replaced as \"Did not use referral\" as the blank values indicate that those users did not use a referral code"
   ]
  },
  {
   "cell_type": "code",
   "execution_count": 5,
   "id": "ab3cd596",
   "metadata": {},
   "outputs": [],
   "source": [
    "# Firstly, copy the dataset to a new variable\n",
    "\n",
    "df_user = df1.copy()"
   ]
  },
  {
   "cell_type": "code",
   "execution_count": 6,
   "id": "8e62e3dd",
   "metadata": {},
   "outputs": [
    {
     "data": {
      "text/plain": [
       "user_id                         0\n",
       "registration_import_datetime    0\n",
       "user_gender                     0\n",
       "user_age                        0\n",
       "user_occupation                 0\n",
       "user_income_range               0\n",
       "referral_code_used              0\n",
       "user_income_source              0\n",
       "end_of_month_invested_amount    0\n",
       "total_buy_amount                0\n",
       "total_sell_amount               0\n",
       "dtype: int64"
      ]
     },
     "execution_count": 6,
     "metadata": {},
     "output_type": "execute_result"
    }
   ],
   "source": [
    "# Replace NaN values in 'referral_code_used' column\n",
    "\n",
    "df_user.referral_code_used = df_user.referral_code_used.fillna('Did not use referral')\n",
    "\n",
    "df_user.isna().sum()"
   ]
  },
  {
   "cell_type": "code",
   "execution_count": 7,
   "id": "eb4b7de7",
   "metadata": {},
   "outputs": [
    {
     "data": {
      "text/plain": [
       "Did not use referral    9108\n",
       "used referral           5604\n",
       "Name: referral_code_used, dtype: int64"
      ]
     },
     "execution_count": 7,
     "metadata": {},
     "output_type": "execute_result"
    }
   ],
   "source": [
    "df_user['referral_code_used'].value_counts()"
   ]
  },
  {
   "cell_type": "markdown",
   "id": "9ccc7314",
   "metadata": {},
   "source": [
    "*No more missing values are found in the user dataset*"
   ]
  },
  {
   "cell_type": "markdown",
   "id": "d0e5cd5c",
   "metadata": {},
   "source": [
    "> **Treatment for 0 values**\n",
    "Since they may affect during outlier removal"
   ]
  },
  {
   "cell_type": "code",
   "execution_count": 8,
   "id": "37fb3e3a",
   "metadata": {},
   "outputs": [
    {
     "name": "stdout",
     "output_type": "stream",
     "text": [
      "<class 'pandas.core.frame.DataFrame'>\n",
      "RangeIndex: 14712 entries, 0 to 14711\n",
      "Data columns (total 11 columns):\n",
      " #   Column                        Non-Null Count  Dtype \n",
      "---  ------                        --------------  ----- \n",
      " 0   user_id                       14712 non-null  int64 \n",
      " 1   registration_import_datetime  14712 non-null  object\n",
      " 2   user_gender                   14712 non-null  object\n",
      " 3   user_age                      14712 non-null  int64 \n",
      " 4   user_occupation               14712 non-null  object\n",
      " 5   user_income_range             14712 non-null  object\n",
      " 6   referral_code_used            14712 non-null  object\n",
      " 7   user_income_source            14712 non-null  object\n",
      " 8   end_of_month_invested_amount  14712 non-null  int64 \n",
      " 9   total_buy_amount              14712 non-null  int64 \n",
      " 10  total_sell_amount             14712 non-null  int64 \n",
      "dtypes: int64(5), object(6)\n",
      "memory usage: 1.2+ MB\n"
     ]
    }
   ],
   "source": [
    "df_user.info()"
   ]
  },
  {
   "cell_type": "code",
   "execution_count": 9,
   "id": "acbe8912",
   "metadata": {},
   "outputs": [],
   "source": [
    "# Select columns where I want to exclude 0 values\n",
    "cols_to_exclude = ['end_of_month_invested_amount', 'total_buy_amount', 'total_sell_amount']"
   ]
  },
  {
   "cell_type": "code",
   "execution_count": 10,
   "id": "1bfcfd89",
   "metadata": {},
   "outputs": [],
   "source": [
    "# Replace 0 values with NaN values\n",
    "df_user[cols_to_exclude] = df_user[cols_to_exclude].mask(df_user[cols_to_exclude] == 0, pd.NA)"
   ]
  },
  {
   "cell_type": "code",
   "execution_count": 11,
   "id": "c3b48f58",
   "metadata": {},
   "outputs": [],
   "source": [
    "# Drop rows with NaN values\n",
    "df_user.dropna(subset=cols_to_exclude, inplace=True)"
   ]
  },
  {
   "cell_type": "code",
   "execution_count": 12,
   "id": "4fd16de4",
   "metadata": {},
   "outputs": [
    {
     "data": {
      "text/plain": [
       "100000.0      39\n",
       "10000.0       31\n",
       "25000.0       27\n",
       "500000.0      27\n",
       "200000.0      27\n",
       "              ..\n",
       "29979.0        1\n",
       "283000.0       1\n",
       "360000.0       1\n",
       "860500.0       1\n",
       "31040000.0     1\n",
       "Name: total_buy_amount, Length: 396, dtype: int64"
      ]
     },
     "execution_count": 12,
     "metadata": {},
     "output_type": "execute_result"
    }
   ],
   "source": [
    "df_user['total_buy_amount'].value_counts()"
   ]
  },
  {
   "cell_type": "markdown",
   "id": "2fa6fc32",
   "metadata": {},
   "source": [
    "### **2. Check Data Type**"
   ]
  },
  {
   "cell_type": "code",
   "execution_count": 13,
   "id": "8c4f4ea9",
   "metadata": {
    "scrolled": true
   },
   "outputs": [
    {
     "name": "stdout",
     "output_type": "stream",
     "text": [
      "<class 'pandas.core.frame.DataFrame'>\n",
      "Int64Index: 730 entries, 8 to 14691\n",
      "Data columns (total 11 columns):\n",
      " #   Column                        Non-Null Count  Dtype  \n",
      "---  ------                        --------------  -----  \n",
      " 0   user_id                       730 non-null    int64  \n",
      " 1   registration_import_datetime  730 non-null    object \n",
      " 2   user_gender                   730 non-null    object \n",
      " 3   user_age                      730 non-null    int64  \n",
      " 4   user_occupation               730 non-null    object \n",
      " 5   user_income_range             730 non-null    object \n",
      " 6   referral_code_used            730 non-null    object \n",
      " 7   user_income_source            730 non-null    object \n",
      " 8   end_of_month_invested_amount  730 non-null    float64\n",
      " 9   total_buy_amount              730 non-null    float64\n",
      " 10  total_sell_amount             730 non-null    float64\n",
      "dtypes: float64(3), int64(2), object(6)\n",
      "memory usage: 68.4+ KB\n"
     ]
    }
   ],
   "source": [
    "# Show the overall info of the dataset\n",
    "df_user.info()"
   ]
  },
  {
   "cell_type": "markdown",
   "id": "3404b78d",
   "metadata": {},
   "source": [
    "**Insight:**\n",
    "\n",
    "\n",
    "*   The type of column 'user_id' can be changed into string, since an ID is generally not used for calculation\n",
    "*   The type of column 'registration_import_datetime' can be changed into datetime"
   ]
  },
  {
   "cell_type": "code",
   "execution_count": 14,
   "id": "3bb56eac",
   "metadata": {},
   "outputs": [],
   "source": [
    "# Set the type of column 'user_id' into string\n",
    "df_user['user_id'] = df_user['user_id'].astype('str')"
   ]
  },
  {
   "cell_type": "code",
   "execution_count": 15,
   "id": "0aec2a3c",
   "metadata": {},
   "outputs": [
    {
     "name": "stdout",
     "output_type": "stream",
     "text": [
      "<class 'pandas.core.frame.DataFrame'>\n",
      "Int64Index: 730 entries, 8 to 14691\n",
      "Data columns (total 11 columns):\n",
      " #   Column                        Non-Null Count  Dtype  \n",
      "---  ------                        --------------  -----  \n",
      " 0   user_id                       730 non-null    object \n",
      " 1   registration_import_datetime  730 non-null    object \n",
      " 2   user_gender                   730 non-null    object \n",
      " 3   user_age                      730 non-null    int64  \n",
      " 4   user_occupation               730 non-null    object \n",
      " 5   user_income_range             730 non-null    object \n",
      " 6   referral_code_used            730 non-null    object \n",
      " 7   user_income_source            730 non-null    object \n",
      " 8   end_of_month_invested_amount  730 non-null    float64\n",
      " 9   total_buy_amount              730 non-null    float64\n",
      " 10  total_sell_amount             730 non-null    float64\n",
      "dtypes: float64(3), int64(1), object(7)\n",
      "memory usage: 68.4+ KB\n"
     ]
    }
   ],
   "source": [
    "df_user.info()"
   ]
  },
  {
   "cell_type": "markdown",
   "id": "00cf8365",
   "metadata": {},
   "source": [
    "*Column 'user_id' has been transformed into string type*"
   ]
  },
  {
   "cell_type": "code",
   "execution_count": 16,
   "id": "c61df2ba",
   "metadata": {},
   "outputs": [
    {
     "name": "stdout",
     "output_type": "stream",
     "text": [
      "<class 'pandas.core.frame.DataFrame'>\n",
      "Int64Index: 730 entries, 8 to 14691\n",
      "Data columns (total 11 columns):\n",
      " #   Column                        Non-Null Count  Dtype         \n",
      "---  ------                        --------------  -----         \n",
      " 0   user_id                       730 non-null    object        \n",
      " 1   registration_import_datetime  730 non-null    datetime64[ns]\n",
      " 2   user_gender                   730 non-null    object        \n",
      " 3   user_age                      730 non-null    int64         \n",
      " 4   user_occupation               730 non-null    object        \n",
      " 5   user_income_range             730 non-null    object        \n",
      " 6   referral_code_used            730 non-null    object        \n",
      " 7   user_income_source            730 non-null    object        \n",
      " 8   end_of_month_invested_amount  730 non-null    float64       \n",
      " 9   total_buy_amount              730 non-null    float64       \n",
      " 10  total_sell_amount             730 non-null    float64       \n",
      "dtypes: datetime64[ns](1), float64(3), int64(1), object(6)\n",
      "memory usage: 68.4+ KB\n"
     ]
    }
   ],
   "source": [
    "# Set the type of column 'registration_import_datetime' into datetime\n",
    "df_user['registration_import_datetime'] = pd.to_datetime(df_user['registration_import_datetime'])\n",
    "\n",
    "df_user.info()"
   ]
  },
  {
   "cell_type": "markdown",
   "id": "96ca17b3",
   "metadata": {},
   "source": [
    "*Column 'registration_import_datetime' has been transformed into datetime type*"
   ]
  },
  {
   "cell_type": "markdown",
   "id": "e7b10499",
   "metadata": {},
   "source": [
    "### **3. Check for Typos**"
   ]
  },
  {
   "cell_type": "code",
   "execution_count": 17,
   "id": "996f206a",
   "metadata": {},
   "outputs": [
    {
     "data": {
      "text/plain": [
       "Index(['user_id', 'registration_import_datetime', 'user_gender', 'user_age',\n",
       "       'user_occupation', 'user_income_range', 'referral_code_used',\n",
       "       'user_income_source', 'end_of_month_invested_amount',\n",
       "       'total_buy_amount', 'total_sell_amount'],\n",
       "      dtype='object')"
      ]
     },
     "execution_count": 17,
     "metadata": {},
     "output_type": "execute_result"
    }
   ],
   "source": [
    "df_user.columns"
   ]
  },
  {
   "cell_type": "code",
   "execution_count": 18,
   "id": "fb99c2ef",
   "metadata": {},
   "outputs": [
    {
     "name": "stdout",
     "output_type": "stream",
     "text": [
      "3783302    1\n",
      "3830273    1\n",
      "3825589    1\n",
      "3847861    1\n",
      "3788293    1\n",
      "          ..\n",
      "3809741    1\n",
      "3828848    1\n",
      "3898954    1\n",
      "3868456    1\n",
      "3765807    1\n",
      "Name: user_id, Length: 730, dtype: int64 \n",
      "\n",
      "2021-08-10 20:40:29    2\n",
      "2021-08-11 15:52:30    2\n",
      "2021-09-06 07:35:51    2\n",
      "2021-08-14 11:38:07    2\n",
      "2021-09-20 23:51:14    2\n",
      "                      ..\n",
      "2021-08-09 00:25:17    1\n",
      "2021-08-21 13:00:52    1\n",
      "2021-08-15 10:06:23    1\n",
      "2021-08-25 07:24:30    1\n",
      "2021-08-05 23:30:18    1\n",
      "Name: registration_import_datetime, Length: 716, dtype: int64 \n",
      "\n",
      "Male      473\n",
      "Female    257\n",
      "Name: user_gender, dtype: int64 \n",
      "\n",
      "21    69\n",
      "20    47\n",
      "23    44\n",
      "19    44\n",
      "24    41\n",
      "26    40\n",
      "25    40\n",
      "22    40\n",
      "18    35\n",
      "27    35\n",
      "28    31\n",
      "29    27\n",
      "32    22\n",
      "31    20\n",
      "30    20\n",
      "33    19\n",
      "35    14\n",
      "17    13\n",
      "34    13\n",
      "39    11\n",
      "36    11\n",
      "37    10\n",
      "42    10\n",
      "43     9\n",
      "45     8\n",
      "41     8\n",
      "38     6\n",
      "48     5\n",
      "50     4\n",
      "44     4\n",
      "40     4\n",
      "46     3\n",
      "49     3\n",
      "47     3\n",
      "51     2\n",
      "52     2\n",
      "53     2\n",
      "59     2\n",
      "54     2\n",
      "56     2\n",
      "57     2\n",
      "55     1\n",
      "62     1\n",
      "58     1\n",
      "Name: user_age, dtype: int64 \n",
      "\n",
      "Pelajar       395\n",
      "Swasta        185\n",
      "Others         67\n",
      "Pengusaha      28\n",
      "IRT            26\n",
      "PNS            19\n",
      "Guru            7\n",
      "TNI/Polisi      3\n",
      "Name: user_occupation, dtype: int64 \n",
      "\n",
      "< 10 Juta                   297\n",
      "Rp 10 Juta - 50 Juta        222\n",
      "> Rp 50 Juta - 100 Juta     134\n",
      "> Rp 100 Juta - 500 Juta     66\n",
      "> Rp 500 Juta - 1 Miliar     10\n",
      "> Rp 1 Miliar                 1\n",
      "Name: user_income_range, dtype: int64 \n",
      "\n",
      "Did not use referral    517\n",
      "used referral           213\n",
      "Name: referral_code_used, dtype: int64 \n",
      "\n",
      "Gaji                     476\n",
      "Undian                    94\n",
      "Keuntungan Bisnis         73\n",
      "Dari Orang Tua / Anak     32\n",
      "Tabungan                  24\n",
      "Lainnya                   17\n",
      "Hasil Investasi            8\n",
      "Dari Suami / istri         4\n",
      "Warisan                    2\n",
      "Name: user_income_source, dtype: int64 \n",
      "\n",
      "100000.0      39\n",
      "10000.0       25\n",
      "300000.0      21\n",
      "200000.0      19\n",
      "1000000.0     13\n",
      "              ..\n",
      "2414711.0      1\n",
      "199979.0       1\n",
      "126390.0       1\n",
      "1103500.0      1\n",
      "31000000.0     1\n",
      "Name: end_of_month_invested_amount, Length: 480, dtype: int64 \n",
      "\n",
      "100000.0      39\n",
      "10000.0       31\n",
      "25000.0       27\n",
      "500000.0      27\n",
      "200000.0      27\n",
      "              ..\n",
      "29979.0        1\n",
      "283000.0       1\n",
      "360000.0       1\n",
      "860500.0       1\n",
      "31040000.0     1\n",
      "Name: total_buy_amount, Length: 396, dtype: int64 \n",
      "\n",
      "-100000.0     76\n",
      "-10000.0      34\n",
      "-50000.0      22\n",
      "-500000.0     22\n",
      "-1000000.0    22\n",
      "              ..\n",
      "-220000.0      1\n",
      "-223514.0      1\n",
      "-205000.0      1\n",
      "-89051.0       1\n",
      "-1250000.0     1\n",
      "Name: total_sell_amount, Length: 342, dtype: int64 \n",
      "\n"
     ]
    }
   ],
   "source": [
    "for col_name in ['user_id', 'registration_import_datetime', 'user_gender', 'user_age',\n",
    "       'user_occupation', 'user_income_range', 'referral_code_used',\n",
    "       'user_income_source', 'end_of_month_invested_amount',\n",
    "       'total_buy_amount', 'total_sell_amount']:\n",
    "    print(df_user[col_name].value_counts(), '\\n')"
   ]
  },
  {
   "cell_type": "code",
   "execution_count": 19,
   "id": "9a317490",
   "metadata": {},
   "outputs": [
    {
     "data": {
      "text/plain": [
       "Male      473\n",
       "Female    257\n",
       "Name: user_gender, dtype: int64"
      ]
     },
     "execution_count": 19,
     "metadata": {},
     "output_type": "execute_result"
    }
   ],
   "source": [
    "#Checking the values for user_gender\n",
    "df_user[df_user.columns[2]].value_counts()"
   ]
  },
  {
   "cell_type": "markdown",
   "id": "c078c9e3",
   "metadata": {},
   "source": [
    "*It seems like there is no typo detected in each columns in the dataframe*"
   ]
  },
  {
   "cell_type": "markdown",
   "id": "148d5039",
   "metadata": {},
   "source": [
    "### **4. Data Manipulation**"
   ]
  },
  {
   "cell_type": "markdown",
   "id": "1097640a",
   "metadata": {},
   "source": [
    "#### Creating a bin for column 'user_income_range'"
   ]
  },
  {
   "cell_type": "code",
   "execution_count": 20,
   "id": "87ca310a",
   "metadata": {},
   "outputs": [
    {
     "data": {
      "text/plain": [
       "< 10 Juta                   297\n",
       "Rp 10 Juta - 50 Juta        222\n",
       "> Rp 50 Juta - 100 Juta     134\n",
       "> Rp 100 Juta - 500 Juta     66\n",
       "> Rp 500 Juta - 1 Miliar     10\n",
       "> Rp 1 Miliar                 1\n",
       "Name: user_income_range, dtype: int64"
      ]
     },
     "execution_count": 20,
     "metadata": {},
     "output_type": "execute_result"
    }
   ],
   "source": [
    "# To check the unique values\n",
    "df_user['user_income_range'].value_counts()"
   ]
  },
  {
   "cell_type": "code",
   "execution_count": 21,
   "id": "3d6226d9",
   "metadata": {},
   "outputs": [],
   "source": [
    "a = df_user['user_income_range'] # To make the code shorter and easier to read"
   ]
  },
  {
   "cell_type": "code",
   "execution_count": 22,
   "id": "b3006870",
   "metadata": {},
   "outputs": [],
   "source": [
    "# I decide to categorize the income range into three groups. Coded as follows:\n",
    "\n",
    "df_user.loc[(a == '< 10 Juta') | (a == 'Rp 10 Juta - 50 Juta'), 'user_income_range'] = 'Lower Income'\n",
    "df_user.loc[(a == '> Rp 50 Juta - 100 Juta') | (a == '> Rp 100 Juta - 500 Juta'), 'user_income_range'] = 'Middle Income'\n",
    "df_user.loc[(a == '> Rp 500 Juta - 1 Miliar') | (a == '> Rp 1 Miliar'), 'user_income_range'] = 'Higher Income'"
   ]
  },
  {
   "cell_type": "code",
   "execution_count": 23,
   "id": "6f58edf0",
   "metadata": {
    "scrolled": true
   },
   "outputs": [
    {
     "data": {
      "text/plain": [
       "Lower Income     519\n",
       "Middle Income    200\n",
       "Higher Income     11\n",
       "Name: user_income_range, dtype: int64"
      ]
     },
     "execution_count": 23,
     "metadata": {},
     "output_type": "execute_result"
    }
   ],
   "source": [
    "df_user['user_income_range'].value_counts()    #To confirm the data after creating the categories"
   ]
  },
  {
   "cell_type": "code",
   "execution_count": 24,
   "id": "31cd8a9f",
   "metadata": {},
   "outputs": [],
   "source": [
    "# Copy the dataset for later analysis\n",
    "users = df_user.copy()"
   ]
  },
  {
   "cell_type": "markdown",
   "id": "cf02da1a",
   "metadata": {},
   "source": [
    "#### Assigning user age into age groups"
   ]
  },
  {
   "cell_type": "code",
   "execution_count": 25,
   "id": "fe46c18d",
   "metadata": {},
   "outputs": [
    {
     "data": {
      "text/plain": [
       "62     1\n",
       "59     2\n",
       "58     1\n",
       "57     2\n",
       "56     2\n",
       "55     1\n",
       "54     2\n",
       "53     2\n",
       "52     2\n",
       "51     2\n",
       "50     4\n",
       "49     3\n",
       "48     5\n",
       "47     3\n",
       "46     3\n",
       "45     8\n",
       "44     4\n",
       "43     9\n",
       "42    10\n",
       "41     8\n",
       "40     4\n",
       "39    11\n",
       "38     6\n",
       "37    10\n",
       "36    11\n",
       "35    14\n",
       "34    13\n",
       "33    19\n",
       "32    22\n",
       "31    20\n",
       "30    20\n",
       "29    27\n",
       "28    31\n",
       "27    35\n",
       "26    40\n",
       "25    40\n",
       "24    41\n",
       "23    44\n",
       "22    40\n",
       "21    69\n",
       "20    47\n",
       "19    44\n",
       "18    35\n",
       "17    13\n",
       "Name: user_age, dtype: int64"
      ]
     },
     "execution_count": 25,
     "metadata": {},
     "output_type": "execute_result"
    }
   ],
   "source": [
    "# First, sort and count the user age to see the age distribution\n",
    "\n",
    "df_age = df_user['user_age']\n",
    "age_sorted_counts= df_age.value_counts().sort_index(ascending =False)\n",
    "age_sorted_counts"
   ]
  },
  {
   "cell_type": "code",
   "execution_count": 26,
   "id": "6c51d0cb",
   "metadata": {},
   "outputs": [],
   "source": [
    "# I decide to categorize the user age into three groups. Coded as follows:\n",
    "df_user_copy= df_user.copy()\n",
    "\n",
    "df_user.loc[(df_age >= 17 ) & (df_age <= 30 ), 'user_age'] = 'Young Adult'\n",
    "df_user.loc[(df_age >= 31 ) & (df_age <= 60 ), 'user_age'] = 'Adult'\n",
    "df_user.loc[(df_age >= 61 ), 'user_age'] = 'Older Adult'"
   ]
  },
  {
   "cell_type": "code",
   "execution_count": 27,
   "id": "fae5432c",
   "metadata": {},
   "outputs": [
    {
     "data": {
      "text/plain": [
       "Young Adult    526\n",
       "Adult          203\n",
       "Older Adult      1\n",
       "Name: user_age, dtype: int64"
      ]
     },
     "execution_count": 27,
     "metadata": {},
     "output_type": "execute_result"
    }
   ],
   "source": [
    "df_user['user_age'].value_counts()"
   ]
  },
  {
   "cell_type": "code",
   "execution_count": 28,
   "id": "3172d34b",
   "metadata": {},
   "outputs": [
    {
     "name": "stdout",
     "output_type": "stream",
     "text": [
      "<class 'pandas.core.frame.DataFrame'>\n",
      "Int64Index: 730 entries, 8 to 14691\n",
      "Data columns (total 11 columns):\n",
      " #   Column                        Non-Null Count  Dtype         \n",
      "---  ------                        --------------  -----         \n",
      " 0   user_id                       730 non-null    object        \n",
      " 1   registration_import_datetime  730 non-null    datetime64[ns]\n",
      " 2   user_gender                   730 non-null    object        \n",
      " 3   user_age                      730 non-null    object        \n",
      " 4   user_occupation               730 non-null    object        \n",
      " 5   user_income_range             730 non-null    object        \n",
      " 6   referral_code_used            730 non-null    object        \n",
      " 7   user_income_source            730 non-null    object        \n",
      " 8   end_of_month_invested_amount  730 non-null    float64       \n",
      " 9   total_buy_amount              730 non-null    float64       \n",
      " 10  total_sell_amount             730 non-null    float64       \n",
      "dtypes: datetime64[ns](1), float64(3), object(7)\n",
      "memory usage: 68.4+ KB\n"
     ]
    }
   ],
   "source": [
    "df_user.info()"
   ]
  },
  {
   "cell_type": "markdown",
   "id": "11e89e50",
   "metadata": {},
   "source": [
    "**Assigning User Occupations**"
   ]
  },
  {
   "cell_type": "code",
   "execution_count": 29,
   "id": "e06e4f25",
   "metadata": {},
   "outputs": [
    {
     "data": {
      "text/plain": [
       "Pelajar       395\n",
       "Swasta        185\n",
       "Others         67\n",
       "Pengusaha      28\n",
       "IRT            26\n",
       "PNS            19\n",
       "Guru            7\n",
       "TNI/Polisi      3\n",
       "Name: user_occupation, dtype: int64"
      ]
     },
     "execution_count": 29,
     "metadata": {},
     "output_type": "execute_result"
    }
   ],
   "source": [
    "# To check the unique values\n",
    "df_user['user_occupation'].value_counts()"
   ]
  },
  {
   "cell_type": "code",
   "execution_count": 30,
   "id": "6113ac30",
   "metadata": {},
   "outputs": [],
   "source": [
    "# replace the values in the user_occupation column that contain the strings 'Pengusaha', 'PNS', 'Guru', 'IRT', 'TNI/Polisi' with 'Others'\n",
    "df_user['user_occupation'] = df_user['user_occupation'].replace(['Pengusaha','PNS', 'Guru', 'IRT', 'TNI/Polisi'], 'Others')"
   ]
  },
  {
   "cell_type": "code",
   "execution_count": 31,
   "id": "da405e8d",
   "metadata": {},
   "outputs": [
    {
     "data": {
      "text/plain": [
       "Pelajar    395\n",
       "Swasta     185\n",
       "Others     150\n",
       "Name: user_occupation, dtype: int64"
      ]
     },
     "execution_count": 31,
     "metadata": {},
     "output_type": "execute_result"
    }
   ],
   "source": [
    "df_user['user_occupation'].value_counts()"
   ]
  },
  {
   "cell_type": "markdown",
   "id": "a37a2a77",
   "metadata": {},
   "source": [
    "### 5. Check for Duplicates"
   ]
  },
  {
   "cell_type": "code",
   "execution_count": 32,
   "id": "4098274c",
   "metadata": {},
   "outputs": [
    {
     "data": {
      "text/html": [
       "<div>\n",
       "<style scoped>\n",
       "    .dataframe tbody tr th:only-of-type {\n",
       "        vertical-align: middle;\n",
       "    }\n",
       "\n",
       "    .dataframe tbody tr th {\n",
       "        vertical-align: top;\n",
       "    }\n",
       "\n",
       "    .dataframe thead th {\n",
       "        text-align: right;\n",
       "    }\n",
       "</style>\n",
       "<table border=\"1\" class=\"dataframe\">\n",
       "  <thead>\n",
       "    <tr style=\"text-align: right;\">\n",
       "      <th></th>\n",
       "      <th>user_id</th>\n",
       "      <th>registration_import_datetime</th>\n",
       "      <th>user_gender</th>\n",
       "      <th>user_age</th>\n",
       "      <th>user_occupation</th>\n",
       "      <th>user_income_range</th>\n",
       "      <th>referral_code_used</th>\n",
       "      <th>user_income_source</th>\n",
       "      <th>end_of_month_invested_amount</th>\n",
       "      <th>total_buy_amount</th>\n",
       "      <th>total_sell_amount</th>\n",
       "    </tr>\n",
       "  </thead>\n",
       "  <tbody>\n",
       "  </tbody>\n",
       "</table>\n",
       "</div>"
      ],
      "text/plain": [
       "Empty DataFrame\n",
       "Columns: [user_id, registration_import_datetime, user_gender, user_age, user_occupation, user_income_range, referral_code_used, user_income_source, end_of_month_invested_amount, total_buy_amount, total_sell_amount]\n",
       "Index: []"
      ]
     },
     "execution_count": 32,
     "metadata": {},
     "output_type": "execute_result"
    }
   ],
   "source": [
    "#Check the duplicate\n",
    "df_user[df_user['user_id'].duplicated()]"
   ]
  },
  {
   "cell_type": "markdown",
   "id": "20ef9bbe",
   "metadata": {},
   "source": [
    "This output displays that there are no duplicated rows in the dataframe."
   ]
  },
  {
   "cell_type": "markdown",
   "id": "47228a86",
   "metadata": {},
   "source": [
    "### User Cleaned Data"
   ]
  },
  {
   "cell_type": "code",
   "execution_count": 33,
   "id": "6352e45b",
   "metadata": {},
   "outputs": [],
   "source": [
    "df_users = df_user.copy() #Create a copy after cleaning for other purposes in the future"
   ]
  },
  {
   "cell_type": "code",
   "execution_count": 34,
   "id": "4e6b169a",
   "metadata": {},
   "outputs": [
    {
     "name": "stdout",
     "output_type": "stream",
     "text": [
      "<class 'pandas.core.frame.DataFrame'>\n",
      "Int64Index: 730 entries, 8 to 14691\n",
      "Data columns (total 11 columns):\n",
      " #   Column                        Non-Null Count  Dtype         \n",
      "---  ------                        --------------  -----         \n",
      " 0   user_id                       730 non-null    object        \n",
      " 1   registration_import_datetime  730 non-null    datetime64[ns]\n",
      " 2   user_gender                   730 non-null    object        \n",
      " 3   user_age                      730 non-null    object        \n",
      " 4   user_occupation               730 non-null    object        \n",
      " 5   user_income_range             730 non-null    object        \n",
      " 6   referral_code_used            730 non-null    object        \n",
      " 7   user_income_source            730 non-null    object        \n",
      " 8   end_of_month_invested_amount  730 non-null    float64       \n",
      " 9   total_buy_amount              730 non-null    float64       \n",
      " 10  total_sell_amount             730 non-null    float64       \n",
      "dtypes: datetime64[ns](1), float64(3), object(7)\n",
      "memory usage: 68.4+ KB\n"
     ]
    }
   ],
   "source": [
    "df_users.info()"
   ]
  },
  {
   "cell_type": "markdown",
   "id": "09de3b00",
   "metadata": {},
   "source": [
    "## b. Daily_user_transaction"
   ]
  },
  {
   "cell_type": "markdown",
   "id": "11db93b2",
   "metadata": {},
   "source": [
    "### 1. Handling Missing Values"
   ]
  },
  {
   "cell_type": "code",
   "execution_count": 35,
   "id": "4df79a96",
   "metadata": {},
   "outputs": [
    {
     "name": "stdout",
     "output_type": "stream",
     "text": [
      "<class 'pandas.core.frame.DataFrame'>\n",
      "RangeIndex: 158811 entries, 0 to 158810\n",
      "Data columns (total 17 columns):\n",
      " #   Column                                    Non-Null Count   Dtype  \n",
      "---  ------                                    --------------   -----  \n",
      " 0   user_id                                   158811 non-null  int64  \n",
      " 1   date                                      158811 non-null  object \n",
      " 2   buy_saham_transaction_amount              99031 non-null   float64\n",
      " 3   sell_saham_transaction_amount             1808 non-null    float64\n",
      " 4   buy_pasar_uang_transaction_amount         122263 non-null  float64\n",
      " 5   sell_pasar_uang_transaction_amount        2010 non-null    float64\n",
      " 6   buy_pendapatan_tetap_transaction_amount   98916 non-null   float64\n",
      " 7   sell_pendapatan_tetap_transaction_amount  1581 non-null    float64\n",
      " 8   buy_campuran_transaction_amount           5072 non-null    float64\n",
      " 9   sell_campuran_transaction_amount          46 non-null      float64\n",
      " 10  total_buy_transaction_amount              158811 non-null  int64  \n",
      " 11  total_sell_transaction_amount             158811 non-null  int64  \n",
      " 12  saham_invested_amount                     106292 non-null  float64\n",
      " 13  pasar_uang_invested_amount                131081 non-null  float64\n",
      " 14  pendapatan_tetap_invested_amount          105946 non-null  float64\n",
      " 15  campuran_invested_amount                  5352 non-null    float64\n",
      " 16  total_invested_amount                     158811 non-null  int64  \n",
      "dtypes: float64(12), int64(4), object(1)\n",
      "memory usage: 20.6+ MB\n"
     ]
    }
   ],
   "source": [
    "# Firstly, copy the dataset to a new variable\n",
    "df_transac = df2.copy()\n",
    "\n",
    "df_transac.info()"
   ]
  },
  {
   "cell_type": "code",
   "execution_count": 36,
   "id": "9c2de1e3",
   "metadata": {},
   "outputs": [
    {
     "data": {
      "text/plain": [
       "user_id                                          0\n",
       "date                                             0\n",
       "buy_saham_transaction_amount                 59780\n",
       "sell_saham_transaction_amount               157003\n",
       "buy_pasar_uang_transaction_amount            36548\n",
       "sell_pasar_uang_transaction_amount          156801\n",
       "buy_pendapatan_tetap_transaction_amount      59895\n",
       "sell_pendapatan_tetap_transaction_amount    157230\n",
       "buy_campuran_transaction_amount             153739\n",
       "sell_campuran_transaction_amount            158765\n",
       "total_buy_transaction_amount                     0\n",
       "total_sell_transaction_amount                    0\n",
       "saham_invested_amount                        52519\n",
       "pasar_uang_invested_amount                   27730\n",
       "pendapatan_tetap_invested_amount             52865\n",
       "campuran_invested_amount                    153459\n",
       "total_invested_amount                            0\n",
       "dtype: int64"
      ]
     },
     "execution_count": 36,
     "metadata": {},
     "output_type": "execute_result"
    }
   ],
   "source": [
    "# Calculating the total rows with missing values on each columns in daily_user_transaction table (df_transac)\n",
    "\n",
    "df_transac.isna().sum()"
   ]
  },
  {
   "cell_type": "markdown",
   "id": "c47fc67d",
   "metadata": {},
   "source": [
    "**Insight:**\n",
    "\n",
    "\n",
    "> Null values in transaction table are more likely to happen as for one user_id can either make one or more types of trasaction or not make any transaction. For example, not making any transaction at date x and selling & buying Saham pendapatan tetap on the next day. Therefore, the null values are not removed."
   ]
  },
  {
   "cell_type": "markdown",
   "id": "787e372e",
   "metadata": {},
   "source": [
    "### **2. Check Data Type**"
   ]
  },
  {
   "cell_type": "code",
   "execution_count": 37,
   "id": "5a088922",
   "metadata": {},
   "outputs": [
    {
     "name": "stdout",
     "output_type": "stream",
     "text": [
      "<class 'pandas.core.frame.DataFrame'>\n",
      "RangeIndex: 158811 entries, 0 to 158810\n",
      "Data columns (total 17 columns):\n",
      " #   Column                                    Non-Null Count   Dtype  \n",
      "---  ------                                    --------------   -----  \n",
      " 0   user_id                                   158811 non-null  int64  \n",
      " 1   date                                      158811 non-null  object \n",
      " 2   buy_saham_transaction_amount              99031 non-null   float64\n",
      " 3   sell_saham_transaction_amount             1808 non-null    float64\n",
      " 4   buy_pasar_uang_transaction_amount         122263 non-null  float64\n",
      " 5   sell_pasar_uang_transaction_amount        2010 non-null    float64\n",
      " 6   buy_pendapatan_tetap_transaction_amount   98916 non-null   float64\n",
      " 7   sell_pendapatan_tetap_transaction_amount  1581 non-null    float64\n",
      " 8   buy_campuran_transaction_amount           5072 non-null    float64\n",
      " 9   sell_campuran_transaction_amount          46 non-null      float64\n",
      " 10  total_buy_transaction_amount              158811 non-null  int64  \n",
      " 11  total_sell_transaction_amount             158811 non-null  int64  \n",
      " 12  saham_invested_amount                     106292 non-null  float64\n",
      " 13  pasar_uang_invested_amount                131081 non-null  float64\n",
      " 14  pendapatan_tetap_invested_amount          105946 non-null  float64\n",
      " 15  campuran_invested_amount                  5352 non-null    float64\n",
      " 16  total_invested_amount                     158811 non-null  int64  \n",
      "dtypes: float64(12), int64(4), object(1)\n",
      "memory usage: 20.6+ MB\n"
     ]
    }
   ],
   "source": [
    "# Show the overall info of the dataset\n",
    "df_transac.info()"
   ]
  },
  {
   "cell_type": "markdown",
   "id": "605a6c50",
   "metadata": {},
   "source": [
    "**Insight:**\n",
    "\n",
    "\n",
    "*   The type of column 'user_id' can be changed into string, since an ID is generally not used for calculation\n",
    "*   The type of column 'date' can be changed into datetime"
   ]
  },
  {
   "cell_type": "code",
   "execution_count": 38,
   "id": "5b3ca07d",
   "metadata": {},
   "outputs": [
    {
     "name": "stdout",
     "output_type": "stream",
     "text": [
      "<class 'pandas.core.frame.DataFrame'>\n",
      "RangeIndex: 158811 entries, 0 to 158810\n",
      "Data columns (total 17 columns):\n",
      " #   Column                                    Non-Null Count   Dtype  \n",
      "---  ------                                    --------------   -----  \n",
      " 0   user_id                                   158811 non-null  object \n",
      " 1   date                                      158811 non-null  object \n",
      " 2   buy_saham_transaction_amount              99031 non-null   float64\n",
      " 3   sell_saham_transaction_amount             1808 non-null    float64\n",
      " 4   buy_pasar_uang_transaction_amount         122263 non-null  float64\n",
      " 5   sell_pasar_uang_transaction_amount        2010 non-null    float64\n",
      " 6   buy_pendapatan_tetap_transaction_amount   98916 non-null   float64\n",
      " 7   sell_pendapatan_tetap_transaction_amount  1581 non-null    float64\n",
      " 8   buy_campuran_transaction_amount           5072 non-null    float64\n",
      " 9   sell_campuran_transaction_amount          46 non-null      float64\n",
      " 10  total_buy_transaction_amount              158811 non-null  int64  \n",
      " 11  total_sell_transaction_amount             158811 non-null  int64  \n",
      " 12  saham_invested_amount                     106292 non-null  float64\n",
      " 13  pasar_uang_invested_amount                131081 non-null  float64\n",
      " 14  pendapatan_tetap_invested_amount          105946 non-null  float64\n",
      " 15  campuran_invested_amount                  5352 non-null    float64\n",
      " 16  total_invested_amount                     158811 non-null  int64  \n",
      "dtypes: float64(12), int64(3), object(2)\n",
      "memory usage: 20.6+ MB\n"
     ]
    }
   ],
   "source": [
    "# Set the type of column 'user_id' into string\n",
    "df_transac['user_id'] = df_transac['user_id'].astype('str')\n",
    "\n",
    "df_transac.info()"
   ]
  },
  {
   "cell_type": "markdown",
   "id": "5000c2cb",
   "metadata": {},
   "source": [
    "*Column 'user_id' has been transformed into string type*"
   ]
  },
  {
   "cell_type": "code",
   "execution_count": 39,
   "id": "0e5cc000",
   "metadata": {},
   "outputs": [
    {
     "name": "stdout",
     "output_type": "stream",
     "text": [
      "<class 'pandas.core.frame.DataFrame'>\n",
      "RangeIndex: 158811 entries, 0 to 158810\n",
      "Data columns (total 17 columns):\n",
      " #   Column                                    Non-Null Count   Dtype         \n",
      "---  ------                                    --------------   -----         \n",
      " 0   user_id                                   158811 non-null  object        \n",
      " 1   date                                      158811 non-null  datetime64[ns]\n",
      " 2   buy_saham_transaction_amount              99031 non-null   float64       \n",
      " 3   sell_saham_transaction_amount             1808 non-null    float64       \n",
      " 4   buy_pasar_uang_transaction_amount         122263 non-null  float64       \n",
      " 5   sell_pasar_uang_transaction_amount        2010 non-null    float64       \n",
      " 6   buy_pendapatan_tetap_transaction_amount   98916 non-null   float64       \n",
      " 7   sell_pendapatan_tetap_transaction_amount  1581 non-null    float64       \n",
      " 8   buy_campuran_transaction_amount           5072 non-null    float64       \n",
      " 9   sell_campuran_transaction_amount          46 non-null      float64       \n",
      " 10  total_buy_transaction_amount              158811 non-null  int64         \n",
      " 11  total_sell_transaction_amount             158811 non-null  int64         \n",
      " 12  saham_invested_amount                     106292 non-null  float64       \n",
      " 13  pasar_uang_invested_amount                131081 non-null  float64       \n",
      " 14  pendapatan_tetap_invested_amount          105946 non-null  float64       \n",
      " 15  campuran_invested_amount                  5352 non-null    float64       \n",
      " 16  total_invested_amount                     158811 non-null  int64         \n",
      "dtypes: datetime64[ns](1), float64(12), int64(3), object(1)\n",
      "memory usage: 20.6+ MB\n"
     ]
    }
   ],
   "source": [
    "# Set the type of column 'date' into datetime\n",
    "\n",
    "df_transac['date'] = pd.to_datetime(df_transac['date'])\n",
    "\n",
    "df_transac.info()"
   ]
  },
  {
   "cell_type": "markdown",
   "id": "fa057c24",
   "metadata": {},
   "source": [
    "*Column 'date' has been transformed into datetime type*"
   ]
  },
  {
   "cell_type": "markdown",
   "id": "0def953c",
   "metadata": {},
   "source": [
    "### 3. Check for Typos"
   ]
  },
  {
   "cell_type": "code",
   "execution_count": 40,
   "id": "0c7446f5",
   "metadata": {},
   "outputs": [
    {
     "data": {
      "text/plain": [
       "Index(['user_id', 'date', 'buy_saham_transaction_amount',\n",
       "       'sell_saham_transaction_amount', 'buy_pasar_uang_transaction_amount',\n",
       "       'sell_pasar_uang_transaction_amount',\n",
       "       'buy_pendapatan_tetap_transaction_amount',\n",
       "       'sell_pendapatan_tetap_transaction_amount',\n",
       "       'buy_campuran_transaction_amount', 'sell_campuran_transaction_amount',\n",
       "       'total_buy_transaction_amount', 'total_sell_transaction_amount',\n",
       "       'saham_invested_amount', 'pasar_uang_invested_amount',\n",
       "       'pendapatan_tetap_invested_amount', 'campuran_invested_amount',\n",
       "       'total_invested_amount'],\n",
       "      dtype='object')"
      ]
     },
     "execution_count": 40,
     "metadata": {},
     "output_type": "execute_result"
    }
   ],
   "source": [
    "df_transac.columns"
   ]
  },
  {
   "cell_type": "code",
   "execution_count": 41,
   "id": "2700389f",
   "metadata": {},
   "outputs": [
    {
     "name": "stdout",
     "output_type": "stream",
     "text": [
      "3734324    42\n",
      "3736817    42\n",
      "3734576    42\n",
      "3734536    42\n",
      "3736922    42\n",
      "           ..\n",
      "4078289     1\n",
      "1905565     1\n",
      "4143822     1\n",
      "4143651     1\n",
      "4165830     1\n",
      "Name: user_id, Length: 8277, dtype: int64 \n",
      "\n",
      "2021-09-30    8277\n",
      "2021-09-29    8007\n",
      "2021-09-28    7593\n",
      "2021-09-27    7416\n",
      "2021-09-24    7257\n",
      "2021-09-23    7094\n",
      "2021-09-22    6921\n",
      "2021-09-21    6488\n",
      "2021-09-20    6368\n",
      "2021-09-17    6190\n",
      "2021-09-16    6024\n",
      "2021-09-15    5841\n",
      "2021-09-14    5405\n",
      "2021-09-13    5237\n",
      "2021-09-10    5038\n",
      "2021-09-09    4862\n",
      "2021-09-08    4674\n",
      "2021-09-07    4200\n",
      "2021-09-06    4032\n",
      "2021-09-03    3830\n",
      "2021-09-02    3584\n",
      "2021-09-01    3428\n",
      "2021-08-31    3075\n",
      "2021-08-30    2926\n",
      "2021-08-27    2774\n",
      "2021-08-26    2643\n",
      "2021-08-25    2528\n",
      "2021-08-24    2227\n",
      "2021-08-23    2095\n",
      "2021-08-20    1973\n",
      "2021-08-19    1768\n",
      "2021-08-17    1474\n",
      "2021-08-18    1474\n",
      "2021-08-16    1350\n",
      "2021-08-13    1117\n",
      "2021-08-12     991\n",
      "2021-08-11     991\n",
      "2021-08-10     577\n",
      "2021-08-09     426\n",
      "2021-08-06     315\n",
      "2021-08-05     204\n",
      "2021-08-04     117\n",
      "Name: date, dtype: int64 \n",
      "\n"
     ]
    }
   ],
   "source": [
    "for col_name in ['user_id', 'date']:\n",
    "    print(df_transac[col_name].value_counts(), '\\n')  # Only checking typos on string columns, because it is more likely to make typos within string objects"
   ]
  },
  {
   "cell_type": "markdown",
   "id": "105d151b",
   "metadata": {},
   "source": [
    "*There are no typos found in the dataframe*"
   ]
  },
  {
   "cell_type": "markdown",
   "id": "a30aaaaa",
   "metadata": {},
   "source": [
    "### 4. Check for Duplicates"
   ]
  },
  {
   "cell_type": "code",
   "execution_count": 42,
   "id": "c912507e",
   "metadata": {},
   "outputs": [
    {
     "data": {
      "text/html": [
       "<div>\n",
       "<style scoped>\n",
       "    .dataframe tbody tr th:only-of-type {\n",
       "        vertical-align: middle;\n",
       "    }\n",
       "\n",
       "    .dataframe tbody tr th {\n",
       "        vertical-align: top;\n",
       "    }\n",
       "\n",
       "    .dataframe thead th {\n",
       "        text-align: right;\n",
       "    }\n",
       "</style>\n",
       "<table border=\"1\" class=\"dataframe\">\n",
       "  <thead>\n",
       "    <tr style=\"text-align: right;\">\n",
       "      <th></th>\n",
       "      <th>user_id</th>\n",
       "      <th>date</th>\n",
       "      <th>buy_saham_transaction_amount</th>\n",
       "      <th>sell_saham_transaction_amount</th>\n",
       "      <th>buy_pasar_uang_transaction_amount</th>\n",
       "      <th>sell_pasar_uang_transaction_amount</th>\n",
       "      <th>buy_pendapatan_tetap_transaction_amount</th>\n",
       "      <th>sell_pendapatan_tetap_transaction_amount</th>\n",
       "      <th>buy_campuran_transaction_amount</th>\n",
       "      <th>sell_campuran_transaction_amount</th>\n",
       "      <th>total_buy_transaction_amount</th>\n",
       "      <th>total_sell_transaction_amount</th>\n",
       "      <th>saham_invested_amount</th>\n",
       "      <th>pasar_uang_invested_amount</th>\n",
       "      <th>pendapatan_tetap_invested_amount</th>\n",
       "      <th>campuran_invested_amount</th>\n",
       "      <th>total_invested_amount</th>\n",
       "    </tr>\n",
       "  </thead>\n",
       "  <tbody>\n",
       "    <tr>\n",
       "      <th>1</th>\n",
       "      <td>50701</td>\n",
       "      <td>2021-08-31</td>\n",
       "      <td>NaN</td>\n",
       "      <td>NaN</td>\n",
       "      <td>NaN</td>\n",
       "      <td>NaN</td>\n",
       "      <td>NaN</td>\n",
       "      <td>NaN</td>\n",
       "      <td>0.0</td>\n",
       "      <td>NaN</td>\n",
       "      <td>0</td>\n",
       "      <td>0</td>\n",
       "      <td>NaN</td>\n",
       "      <td>NaN</td>\n",
       "      <td>NaN</td>\n",
       "      <td>10000000.0</td>\n",
       "      <td>10000000</td>\n",
       "    </tr>\n",
       "    <tr>\n",
       "      <th>2</th>\n",
       "      <td>50701</td>\n",
       "      <td>2021-09-01</td>\n",
       "      <td>NaN</td>\n",
       "      <td>NaN</td>\n",
       "      <td>NaN</td>\n",
       "      <td>NaN</td>\n",
       "      <td>NaN</td>\n",
       "      <td>NaN</td>\n",
       "      <td>0.0</td>\n",
       "      <td>NaN</td>\n",
       "      <td>0</td>\n",
       "      <td>0</td>\n",
       "      <td>NaN</td>\n",
       "      <td>NaN</td>\n",
       "      <td>NaN</td>\n",
       "      <td>10000000.0</td>\n",
       "      <td>10000000</td>\n",
       "    </tr>\n",
       "    <tr>\n",
       "      <th>3</th>\n",
       "      <td>50701</td>\n",
       "      <td>2021-09-02</td>\n",
       "      <td>NaN</td>\n",
       "      <td>NaN</td>\n",
       "      <td>NaN</td>\n",
       "      <td>NaN</td>\n",
       "      <td>NaN</td>\n",
       "      <td>NaN</td>\n",
       "      <td>0.0</td>\n",
       "      <td>NaN</td>\n",
       "      <td>0</td>\n",
       "      <td>0</td>\n",
       "      <td>NaN</td>\n",
       "      <td>NaN</td>\n",
       "      <td>NaN</td>\n",
       "      <td>10000000.0</td>\n",
       "      <td>10000000</td>\n",
       "    </tr>\n",
       "    <tr>\n",
       "      <th>4</th>\n",
       "      <td>50701</td>\n",
       "      <td>2021-09-03</td>\n",
       "      <td>NaN</td>\n",
       "      <td>NaN</td>\n",
       "      <td>NaN</td>\n",
       "      <td>NaN</td>\n",
       "      <td>NaN</td>\n",
       "      <td>NaN</td>\n",
       "      <td>0.0</td>\n",
       "      <td>NaN</td>\n",
       "      <td>0</td>\n",
       "      <td>0</td>\n",
       "      <td>NaN</td>\n",
       "      <td>NaN</td>\n",
       "      <td>NaN</td>\n",
       "      <td>10000000.0</td>\n",
       "      <td>10000000</td>\n",
       "    </tr>\n",
       "    <tr>\n",
       "      <th>5</th>\n",
       "      <td>50701</td>\n",
       "      <td>2021-09-06</td>\n",
       "      <td>NaN</td>\n",
       "      <td>NaN</td>\n",
       "      <td>NaN</td>\n",
       "      <td>NaN</td>\n",
       "      <td>NaN</td>\n",
       "      <td>NaN</td>\n",
       "      <td>0.0</td>\n",
       "      <td>NaN</td>\n",
       "      <td>0</td>\n",
       "      <td>0</td>\n",
       "      <td>NaN</td>\n",
       "      <td>NaN</td>\n",
       "      <td>NaN</td>\n",
       "      <td>10000000.0</td>\n",
       "      <td>10000000</td>\n",
       "    </tr>\n",
       "    <tr>\n",
       "      <th>...</th>\n",
       "      <td>...</td>\n",
       "      <td>...</td>\n",
       "      <td>...</td>\n",
       "      <td>...</td>\n",
       "      <td>...</td>\n",
       "      <td>...</td>\n",
       "      <td>...</td>\n",
       "      <td>...</td>\n",
       "      <td>...</td>\n",
       "      <td>...</td>\n",
       "      <td>...</td>\n",
       "      <td>...</td>\n",
       "      <td>...</td>\n",
       "      <td>...</td>\n",
       "      <td>...</td>\n",
       "      <td>...</td>\n",
       "      <td>...</td>\n",
       "    </tr>\n",
       "    <tr>\n",
       "      <th>158732</th>\n",
       "      <td>4157033</td>\n",
       "      <td>2021-09-30</td>\n",
       "      <td>NaN</td>\n",
       "      <td>NaN</td>\n",
       "      <td>0.0</td>\n",
       "      <td>NaN</td>\n",
       "      <td>NaN</td>\n",
       "      <td>NaN</td>\n",
       "      <td>NaN</td>\n",
       "      <td>NaN</td>\n",
       "      <td>0</td>\n",
       "      <td>0</td>\n",
       "      <td>NaN</td>\n",
       "      <td>0.0</td>\n",
       "      <td>NaN</td>\n",
       "      <td>NaN</td>\n",
       "      <td>0</td>\n",
       "    </tr>\n",
       "    <tr>\n",
       "      <th>158734</th>\n",
       "      <td>4157054</td>\n",
       "      <td>2021-09-30</td>\n",
       "      <td>NaN</td>\n",
       "      <td>NaN</td>\n",
       "      <td>NaN</td>\n",
       "      <td>-10000.0</td>\n",
       "      <td>NaN</td>\n",
       "      <td>NaN</td>\n",
       "      <td>NaN</td>\n",
       "      <td>NaN</td>\n",
       "      <td>0</td>\n",
       "      <td>-10000</td>\n",
       "      <td>NaN</td>\n",
       "      <td>0.0</td>\n",
       "      <td>NaN</td>\n",
       "      <td>NaN</td>\n",
       "      <td>0</td>\n",
       "    </tr>\n",
       "    <tr>\n",
       "      <th>158737</th>\n",
       "      <td>4157117</td>\n",
       "      <td>2021-09-30</td>\n",
       "      <td>NaN</td>\n",
       "      <td>NaN</td>\n",
       "      <td>NaN</td>\n",
       "      <td>-10000.0</td>\n",
       "      <td>NaN</td>\n",
       "      <td>NaN</td>\n",
       "      <td>NaN</td>\n",
       "      <td>NaN</td>\n",
       "      <td>0</td>\n",
       "      <td>-10000</td>\n",
       "      <td>NaN</td>\n",
       "      <td>0.0</td>\n",
       "      <td>NaN</td>\n",
       "      <td>NaN</td>\n",
       "      <td>0</td>\n",
       "    </tr>\n",
       "    <tr>\n",
       "      <th>158739</th>\n",
       "      <td>4157132</td>\n",
       "      <td>2021-09-30</td>\n",
       "      <td>NaN</td>\n",
       "      <td>NaN</td>\n",
       "      <td>0.0</td>\n",
       "      <td>NaN</td>\n",
       "      <td>NaN</td>\n",
       "      <td>NaN</td>\n",
       "      <td>NaN</td>\n",
       "      <td>NaN</td>\n",
       "      <td>0</td>\n",
       "      <td>0</td>\n",
       "      <td>NaN</td>\n",
       "      <td>10000.0</td>\n",
       "      <td>NaN</td>\n",
       "      <td>NaN</td>\n",
       "      <td>10000</td>\n",
       "    </tr>\n",
       "    <tr>\n",
       "      <th>158741</th>\n",
       "      <td>4157266</td>\n",
       "      <td>2021-09-30</td>\n",
       "      <td>NaN</td>\n",
       "      <td>NaN</td>\n",
       "      <td>0.0</td>\n",
       "      <td>NaN</td>\n",
       "      <td>NaN</td>\n",
       "      <td>NaN</td>\n",
       "      <td>NaN</td>\n",
       "      <td>NaN</td>\n",
       "      <td>0</td>\n",
       "      <td>0</td>\n",
       "      <td>NaN</td>\n",
       "      <td>10000.0</td>\n",
       "      <td>NaN</td>\n",
       "      <td>NaN</td>\n",
       "      <td>10000</td>\n",
       "    </tr>\n",
       "  </tbody>\n",
       "</table>\n",
       "<p>150534 rows × 17 columns</p>\n",
       "</div>"
      ],
      "text/plain": [
       "        user_id       date  buy_saham_transaction_amount  \\\n",
       "1         50701 2021-08-31                           NaN   \n",
       "2         50701 2021-09-01                           NaN   \n",
       "3         50701 2021-09-02                           NaN   \n",
       "4         50701 2021-09-03                           NaN   \n",
       "5         50701 2021-09-06                           NaN   \n",
       "...         ...        ...                           ...   \n",
       "158732  4157033 2021-09-30                           NaN   \n",
       "158734  4157054 2021-09-30                           NaN   \n",
       "158737  4157117 2021-09-30                           NaN   \n",
       "158739  4157132 2021-09-30                           NaN   \n",
       "158741  4157266 2021-09-30                           NaN   \n",
       "\n",
       "        sell_saham_transaction_amount  buy_pasar_uang_transaction_amount  \\\n",
       "1                                 NaN                                NaN   \n",
       "2                                 NaN                                NaN   \n",
       "3                                 NaN                                NaN   \n",
       "4                                 NaN                                NaN   \n",
       "5                                 NaN                                NaN   \n",
       "...                               ...                                ...   \n",
       "158732                            NaN                                0.0   \n",
       "158734                            NaN                                NaN   \n",
       "158737                            NaN                                NaN   \n",
       "158739                            NaN                                0.0   \n",
       "158741                            NaN                                0.0   \n",
       "\n",
       "        sell_pasar_uang_transaction_amount  \\\n",
       "1                                      NaN   \n",
       "2                                      NaN   \n",
       "3                                      NaN   \n",
       "4                                      NaN   \n",
       "5                                      NaN   \n",
       "...                                    ...   \n",
       "158732                                 NaN   \n",
       "158734                            -10000.0   \n",
       "158737                            -10000.0   \n",
       "158739                                 NaN   \n",
       "158741                                 NaN   \n",
       "\n",
       "        buy_pendapatan_tetap_transaction_amount  \\\n",
       "1                                           NaN   \n",
       "2                                           NaN   \n",
       "3                                           NaN   \n",
       "4                                           NaN   \n",
       "5                                           NaN   \n",
       "...                                         ...   \n",
       "158732                                      NaN   \n",
       "158734                                      NaN   \n",
       "158737                                      NaN   \n",
       "158739                                      NaN   \n",
       "158741                                      NaN   \n",
       "\n",
       "        sell_pendapatan_tetap_transaction_amount  \\\n",
       "1                                            NaN   \n",
       "2                                            NaN   \n",
       "3                                            NaN   \n",
       "4                                            NaN   \n",
       "5                                            NaN   \n",
       "...                                          ...   \n",
       "158732                                       NaN   \n",
       "158734                                       NaN   \n",
       "158737                                       NaN   \n",
       "158739                                       NaN   \n",
       "158741                                       NaN   \n",
       "\n",
       "        buy_campuran_transaction_amount  sell_campuran_transaction_amount  \\\n",
       "1                                   0.0                               NaN   \n",
       "2                                   0.0                               NaN   \n",
       "3                                   0.0                               NaN   \n",
       "4                                   0.0                               NaN   \n",
       "5                                   0.0                               NaN   \n",
       "...                                 ...                               ...   \n",
       "158732                              NaN                               NaN   \n",
       "158734                              NaN                               NaN   \n",
       "158737                              NaN                               NaN   \n",
       "158739                              NaN                               NaN   \n",
       "158741                              NaN                               NaN   \n",
       "\n",
       "        total_buy_transaction_amount  total_sell_transaction_amount  \\\n",
       "1                                  0                              0   \n",
       "2                                  0                              0   \n",
       "3                                  0                              0   \n",
       "4                                  0                              0   \n",
       "5                                  0                              0   \n",
       "...                              ...                            ...   \n",
       "158732                             0                              0   \n",
       "158734                             0                         -10000   \n",
       "158737                             0                         -10000   \n",
       "158739                             0                              0   \n",
       "158741                             0                              0   \n",
       "\n",
       "        saham_invested_amount  pasar_uang_invested_amount  \\\n",
       "1                         NaN                         NaN   \n",
       "2                         NaN                         NaN   \n",
       "3                         NaN                         NaN   \n",
       "4                         NaN                         NaN   \n",
       "5                         NaN                         NaN   \n",
       "...                       ...                         ...   \n",
       "158732                    NaN                         0.0   \n",
       "158734                    NaN                         0.0   \n",
       "158737                    NaN                         0.0   \n",
       "158739                    NaN                     10000.0   \n",
       "158741                    NaN                     10000.0   \n",
       "\n",
       "        pendapatan_tetap_invested_amount  campuran_invested_amount  \\\n",
       "1                                    NaN                10000000.0   \n",
       "2                                    NaN                10000000.0   \n",
       "3                                    NaN                10000000.0   \n",
       "4                                    NaN                10000000.0   \n",
       "5                                    NaN                10000000.0   \n",
       "...                                  ...                       ...   \n",
       "158732                               NaN                       NaN   \n",
       "158734                               NaN                       NaN   \n",
       "158737                               NaN                       NaN   \n",
       "158739                               NaN                       NaN   \n",
       "158741                               NaN                       NaN   \n",
       "\n",
       "        total_invested_amount  \n",
       "1                    10000000  \n",
       "2                    10000000  \n",
       "3                    10000000  \n",
       "4                    10000000  \n",
       "5                    10000000  \n",
       "...                       ...  \n",
       "158732                      0  \n",
       "158734                      0  \n",
       "158737                      0  \n",
       "158739                  10000  \n",
       "158741                  10000  \n",
       "\n",
       "[150534 rows x 17 columns]"
      ]
     },
     "execution_count": 42,
     "metadata": {},
     "output_type": "execute_result"
    }
   ],
   "source": [
    "#Check the duplicate\n",
    "df_transac[df_transac['user_id'].duplicated()]"
   ]
  },
  {
   "cell_type": "markdown",
   "id": "0193f1d0",
   "metadata": {},
   "source": [
    "**Insight:**\n",
    "\n",
    "> Duplicated rows may happen in the 'daily_user_transaction' table since one 'user_id' can do multiple transactions at a given time. Therefore, I am gonna keep all the rows.\n"
   ]
  },
  {
   "cell_type": "markdown",
   "id": "6451a0d3",
   "metadata": {},
   "source": [
    "### Daily Transaction Cleaned Data"
   ]
  },
  {
   "cell_type": "code",
   "execution_count": 43,
   "id": "39cd384c",
   "metadata": {},
   "outputs": [
    {
     "data": {
      "text/html": [
       "<div>\n",
       "<style scoped>\n",
       "    .dataframe tbody tr th:only-of-type {\n",
       "        vertical-align: middle;\n",
       "    }\n",
       "\n",
       "    .dataframe tbody tr th {\n",
       "        vertical-align: top;\n",
       "    }\n",
       "\n",
       "    .dataframe thead th {\n",
       "        text-align: right;\n",
       "    }\n",
       "</style>\n",
       "<table border=\"1\" class=\"dataframe\">\n",
       "  <thead>\n",
       "    <tr style=\"text-align: right;\">\n",
       "      <th></th>\n",
       "      <th>user_id</th>\n",
       "      <th>date</th>\n",
       "      <th>buy_saham_transaction_amount</th>\n",
       "      <th>sell_saham_transaction_amount</th>\n",
       "      <th>buy_pasar_uang_transaction_amount</th>\n",
       "      <th>sell_pasar_uang_transaction_amount</th>\n",
       "      <th>buy_pendapatan_tetap_transaction_amount</th>\n",
       "      <th>sell_pendapatan_tetap_transaction_amount</th>\n",
       "      <th>buy_campuran_transaction_amount</th>\n",
       "      <th>sell_campuran_transaction_amount</th>\n",
       "      <th>total_buy_transaction_amount</th>\n",
       "      <th>total_sell_transaction_amount</th>\n",
       "      <th>saham_invested_amount</th>\n",
       "      <th>pasar_uang_invested_amount</th>\n",
       "      <th>pendapatan_tetap_invested_amount</th>\n",
       "      <th>campuran_invested_amount</th>\n",
       "      <th>total_invested_amount</th>\n",
       "    </tr>\n",
       "  </thead>\n",
       "  <tbody>\n",
       "    <tr>\n",
       "      <th>0</th>\n",
       "      <td>50701</td>\n",
       "      <td>2021-08-30</td>\n",
       "      <td>NaN</td>\n",
       "      <td>NaN</td>\n",
       "      <td>NaN</td>\n",
       "      <td>NaN</td>\n",
       "      <td>NaN</td>\n",
       "      <td>NaN</td>\n",
       "      <td>0.0</td>\n",
       "      <td>NaN</td>\n",
       "      <td>0</td>\n",
       "      <td>0</td>\n",
       "      <td>NaN</td>\n",
       "      <td>NaN</td>\n",
       "      <td>NaN</td>\n",
       "      <td>10000000.0</td>\n",
       "      <td>10000000</td>\n",
       "    </tr>\n",
       "    <tr>\n",
       "      <th>1</th>\n",
       "      <td>50701</td>\n",
       "      <td>2021-08-31</td>\n",
       "      <td>NaN</td>\n",
       "      <td>NaN</td>\n",
       "      <td>NaN</td>\n",
       "      <td>NaN</td>\n",
       "      <td>NaN</td>\n",
       "      <td>NaN</td>\n",
       "      <td>0.0</td>\n",
       "      <td>NaN</td>\n",
       "      <td>0</td>\n",
       "      <td>0</td>\n",
       "      <td>NaN</td>\n",
       "      <td>NaN</td>\n",
       "      <td>NaN</td>\n",
       "      <td>10000000.0</td>\n",
       "      <td>10000000</td>\n",
       "    </tr>\n",
       "    <tr>\n",
       "      <th>2</th>\n",
       "      <td>50701</td>\n",
       "      <td>2021-09-01</td>\n",
       "      <td>NaN</td>\n",
       "      <td>NaN</td>\n",
       "      <td>NaN</td>\n",
       "      <td>NaN</td>\n",
       "      <td>NaN</td>\n",
       "      <td>NaN</td>\n",
       "      <td>0.0</td>\n",
       "      <td>NaN</td>\n",
       "      <td>0</td>\n",
       "      <td>0</td>\n",
       "      <td>NaN</td>\n",
       "      <td>NaN</td>\n",
       "      <td>NaN</td>\n",
       "      <td>10000000.0</td>\n",
       "      <td>10000000</td>\n",
       "    </tr>\n",
       "    <tr>\n",
       "      <th>3</th>\n",
       "      <td>50701</td>\n",
       "      <td>2021-09-02</td>\n",
       "      <td>NaN</td>\n",
       "      <td>NaN</td>\n",
       "      <td>NaN</td>\n",
       "      <td>NaN</td>\n",
       "      <td>NaN</td>\n",
       "      <td>NaN</td>\n",
       "      <td>0.0</td>\n",
       "      <td>NaN</td>\n",
       "      <td>0</td>\n",
       "      <td>0</td>\n",
       "      <td>NaN</td>\n",
       "      <td>NaN</td>\n",
       "      <td>NaN</td>\n",
       "      <td>10000000.0</td>\n",
       "      <td>10000000</td>\n",
       "    </tr>\n",
       "    <tr>\n",
       "      <th>4</th>\n",
       "      <td>50701</td>\n",
       "      <td>2021-09-03</td>\n",
       "      <td>NaN</td>\n",
       "      <td>NaN</td>\n",
       "      <td>NaN</td>\n",
       "      <td>NaN</td>\n",
       "      <td>NaN</td>\n",
       "      <td>NaN</td>\n",
       "      <td>0.0</td>\n",
       "      <td>NaN</td>\n",
       "      <td>0</td>\n",
       "      <td>0</td>\n",
       "      <td>NaN</td>\n",
       "      <td>NaN</td>\n",
       "      <td>NaN</td>\n",
       "      <td>10000000.0</td>\n",
       "      <td>10000000</td>\n",
       "    </tr>\n",
       "  </tbody>\n",
       "</table>\n",
       "</div>"
      ],
      "text/plain": [
       "  user_id       date  buy_saham_transaction_amount  \\\n",
       "0   50701 2021-08-30                           NaN   \n",
       "1   50701 2021-08-31                           NaN   \n",
       "2   50701 2021-09-01                           NaN   \n",
       "3   50701 2021-09-02                           NaN   \n",
       "4   50701 2021-09-03                           NaN   \n",
       "\n",
       "   sell_saham_transaction_amount  buy_pasar_uang_transaction_amount  \\\n",
       "0                            NaN                                NaN   \n",
       "1                            NaN                                NaN   \n",
       "2                            NaN                                NaN   \n",
       "3                            NaN                                NaN   \n",
       "4                            NaN                                NaN   \n",
       "\n",
       "   sell_pasar_uang_transaction_amount  \\\n",
       "0                                 NaN   \n",
       "1                                 NaN   \n",
       "2                                 NaN   \n",
       "3                                 NaN   \n",
       "4                                 NaN   \n",
       "\n",
       "   buy_pendapatan_tetap_transaction_amount  \\\n",
       "0                                      NaN   \n",
       "1                                      NaN   \n",
       "2                                      NaN   \n",
       "3                                      NaN   \n",
       "4                                      NaN   \n",
       "\n",
       "   sell_pendapatan_tetap_transaction_amount  buy_campuran_transaction_amount  \\\n",
       "0                                       NaN                              0.0   \n",
       "1                                       NaN                              0.0   \n",
       "2                                       NaN                              0.0   \n",
       "3                                       NaN                              0.0   \n",
       "4                                       NaN                              0.0   \n",
       "\n",
       "   sell_campuran_transaction_amount  total_buy_transaction_amount  \\\n",
       "0                               NaN                             0   \n",
       "1                               NaN                             0   \n",
       "2                               NaN                             0   \n",
       "3                               NaN                             0   \n",
       "4                               NaN                             0   \n",
       "\n",
       "   total_sell_transaction_amount  saham_invested_amount  \\\n",
       "0                              0                    NaN   \n",
       "1                              0                    NaN   \n",
       "2                              0                    NaN   \n",
       "3                              0                    NaN   \n",
       "4                              0                    NaN   \n",
       "\n",
       "   pasar_uang_invested_amount  pendapatan_tetap_invested_amount  \\\n",
       "0                         NaN                               NaN   \n",
       "1                         NaN                               NaN   \n",
       "2                         NaN                               NaN   \n",
       "3                         NaN                               NaN   \n",
       "4                         NaN                               NaN   \n",
       "\n",
       "   campuran_invested_amount  total_invested_amount  \n",
       "0                10000000.0               10000000  \n",
       "1                10000000.0               10000000  \n",
       "2                10000000.0               10000000  \n",
       "3                10000000.0               10000000  \n",
       "4                10000000.0               10000000  "
      ]
     },
     "execution_count": 43,
     "metadata": {},
     "output_type": "execute_result"
    }
   ],
   "source": [
    "df_tran = df_transac.copy() #Create a copy after cleaning for other purpose, and its easier if there is something forgoten and needed to be clean later\n",
    "df_tran.head()"
   ]
  },
  {
   "cell_type": "markdown",
   "id": "a3d69f02",
   "metadata": {},
   "source": [
    "### 5. Merging The Tables"
   ]
  },
  {
   "cell_type": "code",
   "execution_count": 44,
   "id": "8af13f8a",
   "metadata": {
    "scrolled": true
   },
   "outputs": [
    {
     "name": "stdout",
     "output_type": "stream",
     "text": [
      "<class 'pandas.core.frame.DataFrame'>\n",
      "Int64Index: 18193 entries, 0 to 18192\n",
      "Data columns (total 27 columns):\n",
      " #   Column                                    Non-Null Count  Dtype         \n",
      "---  ------                                    --------------  -----         \n",
      " 0   user_id                                   18193 non-null  object        \n",
      " 1   registration_import_datetime              18193 non-null  datetime64[ns]\n",
      " 2   user_gender                               18193 non-null  object        \n",
      " 3   user_age                                  18193 non-null  object        \n",
      " 4   user_occupation                           18193 non-null  object        \n",
      " 5   user_income_range                         18193 non-null  object        \n",
      " 6   referral_code_used                        18193 non-null  object        \n",
      " 7   user_income_source                        18193 non-null  object        \n",
      " 8   end_of_month_invested_amount              18193 non-null  float64       \n",
      " 9   total_buy_amount                          18193 non-null  float64       \n",
      " 10  total_sell_amount                         18193 non-null  float64       \n",
      " 11  date                                      18193 non-null  datetime64[ns]\n",
      " 12  buy_saham_transaction_amount              14148 non-null  float64       \n",
      " 13  sell_saham_transaction_amount             597 non-null    float64       \n",
      " 14  buy_pasar_uang_transaction_amount         15698 non-null  float64       \n",
      " 15  sell_pasar_uang_transaction_amount        549 non-null    float64       \n",
      " 16  buy_pendapatan_tetap_transaction_amount   14290 non-null  float64       \n",
      " 17  sell_pendapatan_tetap_transaction_amount  492 non-null    float64       \n",
      " 18  buy_campuran_transaction_amount           939 non-null    float64       \n",
      " 19  sell_campuran_transaction_amount          21 non-null     float64       \n",
      " 20  total_buy_transaction_amount              18193 non-null  int64         \n",
      " 21  total_sell_transaction_amount             18193 non-null  int64         \n",
      " 22  saham_invested_amount                     15400 non-null  float64       \n",
      " 23  pasar_uang_invested_amount                16939 non-null  float64       \n",
      " 24  pendapatan_tetap_invested_amount          15428 non-null  float64       \n",
      " 25  campuran_invested_amount                  1005 non-null   float64       \n",
      " 26  total_invested_amount                     18193 non-null  int64         \n",
      "dtypes: datetime64[ns](2), float64(15), int64(3), object(7)\n",
      "memory usage: 3.9+ MB\n"
     ]
    }
   ],
   "source": [
    "# Merging both tables is necessary for the purpose of analysis.\n",
    "# I use inner join since I only want to keep the non-null values from the tables.\n",
    "\n",
    "merged_df = pd.merge(df_users, df_tran, on='user_id', how='inner')\n",
    "\n",
    "merged_df.info()"
   ]
  },
  {
   "cell_type": "code",
   "execution_count": 45,
   "id": "75be84ed",
   "metadata": {},
   "outputs": [
    {
     "data": {
      "text/html": [
       "<div>\n",
       "<style scoped>\n",
       "    .dataframe tbody tr th:only-of-type {\n",
       "        vertical-align: middle;\n",
       "    }\n",
       "\n",
       "    .dataframe tbody tr th {\n",
       "        vertical-align: top;\n",
       "    }\n",
       "\n",
       "    .dataframe thead th {\n",
       "        text-align: right;\n",
       "    }\n",
       "</style>\n",
       "<table border=\"1\" class=\"dataframe\">\n",
       "  <thead>\n",
       "    <tr style=\"text-align: right;\">\n",
       "      <th></th>\n",
       "      <th>user_id</th>\n",
       "      <th>registration_import_datetime</th>\n",
       "      <th>user_gender</th>\n",
       "      <th>user_age</th>\n",
       "      <th>user_occupation</th>\n",
       "      <th>user_income_range</th>\n",
       "      <th>referral_code_used</th>\n",
       "      <th>user_income_source</th>\n",
       "      <th>end_of_month_invested_amount</th>\n",
       "      <th>total_buy_amount</th>\n",
       "      <th>...</th>\n",
       "      <th>sell_pendapatan_tetap_transaction_amount</th>\n",
       "      <th>buy_campuran_transaction_amount</th>\n",
       "      <th>sell_campuran_transaction_amount</th>\n",
       "      <th>total_buy_transaction_amount</th>\n",
       "      <th>total_sell_transaction_amount</th>\n",
       "      <th>saham_invested_amount</th>\n",
       "      <th>pasar_uang_invested_amount</th>\n",
       "      <th>pendapatan_tetap_invested_amount</th>\n",
       "      <th>campuran_invested_amount</th>\n",
       "      <th>total_invested_amount</th>\n",
       "    </tr>\n",
       "  </thead>\n",
       "  <tbody>\n",
       "    <tr>\n",
       "      <th>0</th>\n",
       "      <td>3783302</td>\n",
       "      <td>2021-09-14 08:16:54</td>\n",
       "      <td>Male</td>\n",
       "      <td>Adult</td>\n",
       "      <td>Swasta</td>\n",
       "      <td>Middle Income</td>\n",
       "      <td>Did not use referral</td>\n",
       "      <td>Gaji</td>\n",
       "      <td>110431.0</td>\n",
       "      <td>1000000.0</td>\n",
       "      <td>...</td>\n",
       "      <td>NaN</td>\n",
       "      <td>NaN</td>\n",
       "      <td>NaN</td>\n",
       "      <td>0</td>\n",
       "      <td>0</td>\n",
       "      <td>370000.0</td>\n",
       "      <td>100000.0</td>\n",
       "      <td>530000.0</td>\n",
       "      <td>NaN</td>\n",
       "      <td>1000000</td>\n",
       "    </tr>\n",
       "    <tr>\n",
       "      <th>1</th>\n",
       "      <td>3783302</td>\n",
       "      <td>2021-09-14 08:16:54</td>\n",
       "      <td>Male</td>\n",
       "      <td>Adult</td>\n",
       "      <td>Swasta</td>\n",
       "      <td>Middle Income</td>\n",
       "      <td>Did not use referral</td>\n",
       "      <td>Gaji</td>\n",
       "      <td>110431.0</td>\n",
       "      <td>1000000.0</td>\n",
       "      <td>...</td>\n",
       "      <td>NaN</td>\n",
       "      <td>NaN</td>\n",
       "      <td>NaN</td>\n",
       "      <td>1000000</td>\n",
       "      <td>0</td>\n",
       "      <td>740000.0</td>\n",
       "      <td>200000.0</td>\n",
       "      <td>1060000.0</td>\n",
       "      <td>NaN</td>\n",
       "      <td>2000000</td>\n",
       "    </tr>\n",
       "    <tr>\n",
       "      <th>2</th>\n",
       "      <td>3783302</td>\n",
       "      <td>2021-09-14 08:16:54</td>\n",
       "      <td>Male</td>\n",
       "      <td>Adult</td>\n",
       "      <td>Swasta</td>\n",
       "      <td>Middle Income</td>\n",
       "      <td>Did not use referral</td>\n",
       "      <td>Gaji</td>\n",
       "      <td>110431.0</td>\n",
       "      <td>1000000.0</td>\n",
       "      <td>...</td>\n",
       "      <td>NaN</td>\n",
       "      <td>NaN</td>\n",
       "      <td>NaN</td>\n",
       "      <td>0</td>\n",
       "      <td>0</td>\n",
       "      <td>740000.0</td>\n",
       "      <td>200000.0</td>\n",
       "      <td>1060000.0</td>\n",
       "      <td>NaN</td>\n",
       "      <td>2000000</td>\n",
       "    </tr>\n",
       "    <tr>\n",
       "      <th>3</th>\n",
       "      <td>3783302</td>\n",
       "      <td>2021-09-14 08:16:54</td>\n",
       "      <td>Male</td>\n",
       "      <td>Adult</td>\n",
       "      <td>Swasta</td>\n",
       "      <td>Middle Income</td>\n",
       "      <td>Did not use referral</td>\n",
       "      <td>Gaji</td>\n",
       "      <td>110431.0</td>\n",
       "      <td>1000000.0</td>\n",
       "      <td>...</td>\n",
       "      <td>NaN</td>\n",
       "      <td>NaN</td>\n",
       "      <td>NaN</td>\n",
       "      <td>0</td>\n",
       "      <td>0</td>\n",
       "      <td>740000.0</td>\n",
       "      <td>200000.0</td>\n",
       "      <td>1060000.0</td>\n",
       "      <td>NaN</td>\n",
       "      <td>2000000</td>\n",
       "    </tr>\n",
       "    <tr>\n",
       "      <th>4</th>\n",
       "      <td>3783302</td>\n",
       "      <td>2021-09-14 08:16:54</td>\n",
       "      <td>Male</td>\n",
       "      <td>Adult</td>\n",
       "      <td>Swasta</td>\n",
       "      <td>Middle Income</td>\n",
       "      <td>Did not use referral</td>\n",
       "      <td>Gaji</td>\n",
       "      <td>110431.0</td>\n",
       "      <td>1000000.0</td>\n",
       "      <td>...</td>\n",
       "      <td>NaN</td>\n",
       "      <td>NaN</td>\n",
       "      <td>NaN</td>\n",
       "      <td>0</td>\n",
       "      <td>0</td>\n",
       "      <td>740000.0</td>\n",
       "      <td>200000.0</td>\n",
       "      <td>1060000.0</td>\n",
       "      <td>NaN</td>\n",
       "      <td>2000000</td>\n",
       "    </tr>\n",
       "  </tbody>\n",
       "</table>\n",
       "<p>5 rows × 27 columns</p>\n",
       "</div>"
      ],
      "text/plain": [
       "   user_id registration_import_datetime user_gender user_age user_occupation  \\\n",
       "0  3783302          2021-09-14 08:16:54        Male    Adult          Swasta   \n",
       "1  3783302          2021-09-14 08:16:54        Male    Adult          Swasta   \n",
       "2  3783302          2021-09-14 08:16:54        Male    Adult          Swasta   \n",
       "3  3783302          2021-09-14 08:16:54        Male    Adult          Swasta   \n",
       "4  3783302          2021-09-14 08:16:54        Male    Adult          Swasta   \n",
       "\n",
       "  user_income_range    referral_code_used user_income_source  \\\n",
       "0     Middle Income  Did not use referral               Gaji   \n",
       "1     Middle Income  Did not use referral               Gaji   \n",
       "2     Middle Income  Did not use referral               Gaji   \n",
       "3     Middle Income  Did not use referral               Gaji   \n",
       "4     Middle Income  Did not use referral               Gaji   \n",
       "\n",
       "   end_of_month_invested_amount  total_buy_amount  ...  \\\n",
       "0                      110431.0         1000000.0  ...   \n",
       "1                      110431.0         1000000.0  ...   \n",
       "2                      110431.0         1000000.0  ...   \n",
       "3                      110431.0         1000000.0  ...   \n",
       "4                      110431.0         1000000.0  ...   \n",
       "\n",
       "   sell_pendapatan_tetap_transaction_amount buy_campuran_transaction_amount  \\\n",
       "0                                       NaN                             NaN   \n",
       "1                                       NaN                             NaN   \n",
       "2                                       NaN                             NaN   \n",
       "3                                       NaN                             NaN   \n",
       "4                                       NaN                             NaN   \n",
       "\n",
       "   sell_campuran_transaction_amount  total_buy_transaction_amount  \\\n",
       "0                               NaN                             0   \n",
       "1                               NaN                       1000000   \n",
       "2                               NaN                             0   \n",
       "3                               NaN                             0   \n",
       "4                               NaN                             0   \n",
       "\n",
       "   total_sell_transaction_amount  saham_invested_amount  \\\n",
       "0                              0               370000.0   \n",
       "1                              0               740000.0   \n",
       "2                              0               740000.0   \n",
       "3                              0               740000.0   \n",
       "4                              0               740000.0   \n",
       "\n",
       "   pasar_uang_invested_amount  pendapatan_tetap_invested_amount  \\\n",
       "0                    100000.0                          530000.0   \n",
       "1                    200000.0                         1060000.0   \n",
       "2                    200000.0                         1060000.0   \n",
       "3                    200000.0                         1060000.0   \n",
       "4                    200000.0                         1060000.0   \n",
       "\n",
       "   campuran_invested_amount  total_invested_amount  \n",
       "0                       NaN                1000000  \n",
       "1                       NaN                2000000  \n",
       "2                       NaN                2000000  \n",
       "3                       NaN                2000000  \n",
       "4                       NaN                2000000  \n",
       "\n",
       "[5 rows x 27 columns]"
      ]
     },
     "execution_count": 45,
     "metadata": {},
     "output_type": "execute_result"
    }
   ],
   "source": [
    "merged_df.head()"
   ]
  },
  {
   "cell_type": "code",
   "execution_count": 46,
   "id": "3cfbe995",
   "metadata": {},
   "outputs": [
    {
     "data": {
      "text/plain": [
       "(18193, 27)"
      ]
     },
     "execution_count": 46,
     "metadata": {},
     "output_type": "execute_result"
    }
   ],
   "source": [
    "merged_df.shape"
   ]
  },
  {
   "cell_type": "markdown",
   "id": "a668695f",
   "metadata": {},
   "source": [
    "### 6. Checking Outliers"
   ]
  },
  {
   "cell_type": "code",
   "execution_count": 47,
   "id": "20f76aa0",
   "metadata": {},
   "outputs": [
    {
     "data": {
      "text/plain": [
       "<AxesSubplot:xlabel='total_invested_amount'>"
      ]
     },
     "execution_count": 47,
     "metadata": {},
     "output_type": "execute_result"
    },
    {
     "data": {
      "image/png": "[encoded data removed]",
      "text/plain": [
       "<Figure size 640x480 with 1 Axes>"
      ]
     },
     "metadata": {},
     "output_type": "display_data"
    }
   ],
   "source": [
    "# Cheking the data distribution of the merged_df data by 'total_invested_amount'\n",
    "# because this column shows the sum of all transaction done by the users\n",
    "\n",
    "sns.boxplot(data = merged_df , x = 'total_invested_amount')"
   ]
  },
  {
   "cell_type": "code",
   "execution_count": 48,
   "id": "02fb1735",
   "metadata": {},
   "outputs": [
    {
     "name": "stdout",
     "output_type": "stream",
     "text": [
      "Q1:\n",
      " 100451.0\n",
      "\n",
      "Q3:\n",
      " 1350000.0\n",
      "\n",
      "IQR:\n",
      " 1249549.0\n",
      "\n",
      "Min:\n",
      " -1773872.5\n",
      "\n",
      "Max:\n",
      " 3224323.5\n"
     ]
    }
   ],
   "source": [
    "df_clean = merged_df.copy()\n",
    "\n",
    "# Calculating Quartile 1 dan 3\n",
    "Q1 = df_clean['total_invested_amount'].quantile(0.25)\n",
    "Q3 = df_clean['total_invested_amount'].quantile(0.75)\n",
    "\n",
    "# Calculating Interquartile Range\n",
    "IQR = Q3 - Q1\n",
    "LB = Q1 - 1.5 * IQR\n",
    "UB = Q3 + 1.5 * IQR\n",
    "print('Q1:\\n',Q1)\n",
    "print('\\nQ3:\\n',Q3)\n",
    "print('\\nIQR:\\n',IQR)\n",
    "print('\\nMin:\\n',LB)\n",
    "print('\\nMax:\\n',UB)"
   ]
  },
  {
   "cell_type": "code",
   "execution_count": 49,
   "id": "b36245f5",
   "metadata": {},
   "outputs": [
    {
     "data": {
      "text/plain": [
       "(15465, 27)"
      ]
     },
     "execution_count": 49,
     "metadata": {},
     "output_type": "execute_result"
    }
   ],
   "source": [
    "# Eleminating the outliers and assigning to a new variable called \"df_cleaned\"\n",
    "df_cleaned= merged_df[~((merged_df['total_invested_amount'] < LB) | (merged_df['total_invested_amount'] > UB))]\n",
    "\n",
    "df_cleaned.shape"
   ]
  },
  {
   "cell_type": "code",
   "execution_count": 50,
   "id": "658c5799",
   "metadata": {},
   "outputs": [
    {
     "data": {
      "text/html": [
       "<div>\n",
       "<style scoped>\n",
       "    .dataframe tbody tr th:only-of-type {\n",
       "        vertical-align: middle;\n",
       "    }\n",
       "\n",
       "    .dataframe tbody tr th {\n",
       "        vertical-align: top;\n",
       "    }\n",
       "\n",
       "    .dataframe thead th {\n",
       "        text-align: right;\n",
       "    }\n",
       "</style>\n",
       "<table border=\"1\" class=\"dataframe\">\n",
       "  <thead>\n",
       "    <tr style=\"text-align: right;\">\n",
       "      <th></th>\n",
       "      <th>user_id</th>\n",
       "      <th>registration_import_datetime</th>\n",
       "      <th>user_gender</th>\n",
       "      <th>user_age</th>\n",
       "      <th>user_occupation</th>\n",
       "      <th>user_income_range</th>\n",
       "      <th>referral_code_used</th>\n",
       "      <th>user_income_source</th>\n",
       "      <th>end_of_month_invested_amount</th>\n",
       "      <th>total_buy_amount</th>\n",
       "      <th>...</th>\n",
       "      <th>sell_pendapatan_tetap_transaction_amount</th>\n",
       "      <th>buy_campuran_transaction_amount</th>\n",
       "      <th>sell_campuran_transaction_amount</th>\n",
       "      <th>total_buy_transaction_amount</th>\n",
       "      <th>total_sell_transaction_amount</th>\n",
       "      <th>saham_invested_amount</th>\n",
       "      <th>pasar_uang_invested_amount</th>\n",
       "      <th>pendapatan_tetap_invested_amount</th>\n",
       "      <th>campuran_invested_amount</th>\n",
       "      <th>total_invested_amount</th>\n",
       "    </tr>\n",
       "  </thead>\n",
       "  <tbody>\n",
       "  </tbody>\n",
       "</table>\n",
       "<p>0 rows × 27 columns</p>\n",
       "</div>"
      ],
      "text/plain": [
       "Empty DataFrame\n",
       "Columns: [user_id, registration_import_datetime, user_gender, user_age, user_occupation, user_income_range, referral_code_used, user_income_source, end_of_month_invested_amount, total_buy_amount, total_sell_amount, date, buy_saham_transaction_amount, sell_saham_transaction_amount, buy_pasar_uang_transaction_amount, sell_pasar_uang_transaction_amount, buy_pendapatan_tetap_transaction_amount, sell_pendapatan_tetap_transaction_amount, buy_campuran_transaction_amount, sell_campuran_transaction_amount, total_buy_transaction_amount, total_sell_transaction_amount, saham_invested_amount, pasar_uang_invested_amount, pendapatan_tetap_invested_amount, campuran_invested_amount, total_invested_amount]\n",
       "Index: []\n",
       "\n",
       "[0 rows x 27 columns]"
      ]
     },
     "execution_count": 50,
     "metadata": {},
     "output_type": "execute_result"
    }
   ],
   "source": [
    "# Checking whether it is really clean\n",
    "\n",
    "df_cleaned[(df_cleaned['total_invested_amount'] < LB)].sort_values('total_invested_amount', ascending = False)"
   ]
  },
  {
   "cell_type": "code",
   "execution_count": 51,
   "id": "983f7c68",
   "metadata": {},
   "outputs": [
    {
     "data": {
      "text/plain": [
       "<AxesSubplot:xlabel='total_invested_amount'>"
      ]
     },
     "execution_count": 51,
     "metadata": {},
     "output_type": "execute_result"
    },
    {
     "data": {
      "image/png": "[encoded data removed]",
      "text/plain": [
       "<Figure size 640x480 with 1 Axes>"
      ]
     },
     "metadata": {},
     "output_type": "display_data"
    }
   ],
   "source": [
    "# Cheking the data distribution of the df_cleaned\n",
    "\n",
    "sns.boxplot(data = df_cleaned , x ='total_invested_amount')"
   ]
  },
  {
   "cell_type": "markdown",
   "id": "131dfea1",
   "metadata": {},
   "source": [
    "\n",
    "\n",
    "> As shown by the boxplot above, there are still many outliers in the dataset. Therefore, I would like to do another outliers removal to get a better distribution."
   ]
  },
  {
   "cell_type": "markdown",
   "id": "765ae76a",
   "metadata": {},
   "source": [
    "***Second Phase for outliers Removal***"
   ]
  },
  {
   "cell_type": "code",
   "execution_count": 52,
   "id": "1ad57cb4",
   "metadata": {},
   "outputs": [
    {
     "name": "stdout",
     "output_type": "stream",
     "text": [
      "Q1:\n",
      " 100000.0\n",
      "\n",
      "Q3:\n",
      " 700000.0\n",
      "\n",
      "IQR:\n",
      " 600000.0\n",
      "\n",
      "Min:\n",
      " -800000.0\n",
      "\n",
      "Max:\n",
      " 1600000.0\n"
     ]
    }
   ],
   "source": [
    "df_out_clean = df_cleaned.copy()\n",
    "\n",
    "# Calculating Quartile 1 dan 3\n",
    "Q1 = df_cleaned['total_invested_amount'].quantile(0.25)\n",
    "Q3 = df_cleaned['total_invested_amount'].quantile(0.75)\n",
    "\n",
    "# Calculating Interquartile Range\n",
    "IQR = Q3 - Q1\n",
    "LB = Q1 - 1.5 * IQR\n",
    "UB = Q3 + 1.5 * IQR\n",
    "print('Q1:\\n',Q1)\n",
    "print('\\nQ3:\\n',Q3)\n",
    "print('\\nIQR:\\n',IQR)\n",
    "print('\\nMin:\\n',LB)\n",
    "print('\\nMax:\\n',UB)"
   ]
  },
  {
   "cell_type": "code",
   "execution_count": 53,
   "id": "a409f7df",
   "metadata": {},
   "outputs": [],
   "source": [
    "# Eleminating the outliers and assigning it to a new variable \"df_out_clean\"\n",
    "df_out_cleaned= df_out_clean[~((df_out_clean['total_invested_amount'] < LB) | (df_out_clean['total_invested_amount'] > UB))]"
   ]
  },
  {
   "cell_type": "code",
   "execution_count": 54,
   "id": "ba90bc99",
   "metadata": {},
   "outputs": [
    {
     "data": {
      "text/plain": [
       "<AxesSubplot:xlabel='total_invested_amount'>"
      ]
     },
     "execution_count": 54,
     "metadata": {},
     "output_type": "execute_result"
    },
    {
     "data": {
      "image/png": "[encoded data removed]",
      "text/plain": [
       "<Figure size 640x480 with 1 Axes>"
      ]
     },
     "metadata": {},
     "output_type": "display_data"
    }
   ],
   "source": [
    "# Cheking the data distribution of the df_out_cleaned data for 'total_invested_amount'\n",
    "sns.boxplot(data = df_out_cleaned , x ='total_invested_amount')"
   ]
  },
  {
   "cell_type": "code",
   "execution_count": 55,
   "id": "aa46d624",
   "metadata": {},
   "outputs": [
    {
     "data": {
      "text/plain": [
       "(14014, 27)"
      ]
     },
     "execution_count": 55,
     "metadata": {},
     "output_type": "execute_result"
    }
   ],
   "source": [
    "df_out_cleaned.shape"
   ]
  },
  {
   "cell_type": "markdown",
   "id": "a1a411e3",
   "metadata": {},
   "source": [
    "**Insight:**\n",
    " \n",
    "\n",
    "*   The df_out_cleaned has a better distribution with a few noises.\n",
    "*   There were 18193-14014 = 4179 outliers in the merged_df.\n",
    "\n"
   ]
  },
  {
   "cell_type": "markdown",
   "id": "24fd40f6",
   "metadata": {},
   "source": [
    "# D. EDA"
   ]
  },
  {
   "cell_type": "markdown",
   "id": "a0c651e1",
   "metadata": {},
   "source": [
    "## a. EDA Preparation"
   ]
  },
  {
   "cell_type": "code",
   "execution_count": 56,
   "id": "e0b234ab",
   "metadata": {},
   "outputs": [
    {
     "data": {
      "text/html": [
       "<div>\n",
       "<style scoped>\n",
       "    .dataframe tbody tr th:only-of-type {\n",
       "        vertical-align: middle;\n",
       "    }\n",
       "\n",
       "    .dataframe tbody tr th {\n",
       "        vertical-align: top;\n",
       "    }\n",
       "\n",
       "    .dataframe thead th {\n",
       "        text-align: right;\n",
       "    }\n",
       "</style>\n",
       "<table border=\"1\" class=\"dataframe\">\n",
       "  <thead>\n",
       "    <tr style=\"text-align: right;\">\n",
       "      <th></th>\n",
       "      <th>user_id</th>\n",
       "      <th>registration_import_datetime</th>\n",
       "      <th>user_gender</th>\n",
       "      <th>user_age</th>\n",
       "      <th>user_occupation</th>\n",
       "      <th>user_income_range</th>\n",
       "      <th>referral_code_used</th>\n",
       "      <th>user_income_source</th>\n",
       "      <th>end_of_month_invested_amount</th>\n",
       "      <th>total_buy_amount</th>\n",
       "      <th>...</th>\n",
       "      <th>sell_pendapatan_tetap_transaction_amount</th>\n",
       "      <th>buy_campuran_transaction_amount</th>\n",
       "      <th>sell_campuran_transaction_amount</th>\n",
       "      <th>total_buy_transaction_amount</th>\n",
       "      <th>total_sell_transaction_amount</th>\n",
       "      <th>saham_invested_amount</th>\n",
       "      <th>pasar_uang_invested_amount</th>\n",
       "      <th>pendapatan_tetap_invested_amount</th>\n",
       "      <th>campuran_invested_amount</th>\n",
       "      <th>total_invested_amount</th>\n",
       "    </tr>\n",
       "  </thead>\n",
       "  <tbody>\n",
       "    <tr>\n",
       "      <th>0</th>\n",
       "      <td>3783302</td>\n",
       "      <td>2021-09-14 08:16:54</td>\n",
       "      <td>Male</td>\n",
       "      <td>Adult</td>\n",
       "      <td>Swasta</td>\n",
       "      <td>Middle Income</td>\n",
       "      <td>Did not use referral</td>\n",
       "      <td>Gaji</td>\n",
       "      <td>110431.0</td>\n",
       "      <td>1000000.0</td>\n",
       "      <td>...</td>\n",
       "      <td>NaN</td>\n",
       "      <td>NaN</td>\n",
       "      <td>NaN</td>\n",
       "      <td>0</td>\n",
       "      <td>0</td>\n",
       "      <td>370000.0</td>\n",
       "      <td>100000.0</td>\n",
       "      <td>530000.0</td>\n",
       "      <td>NaN</td>\n",
       "      <td>1000000</td>\n",
       "    </tr>\n",
       "    <tr>\n",
       "      <th>8</th>\n",
       "      <td>3783302</td>\n",
       "      <td>2021-09-14 08:16:54</td>\n",
       "      <td>Male</td>\n",
       "      <td>Adult</td>\n",
       "      <td>Swasta</td>\n",
       "      <td>Middle Income</td>\n",
       "      <td>Did not use referral</td>\n",
       "      <td>Gaji</td>\n",
       "      <td>110431.0</td>\n",
       "      <td>1000000.0</td>\n",
       "      <td>...</td>\n",
       "      <td>-949569.0</td>\n",
       "      <td>NaN</td>\n",
       "      <td>NaN</td>\n",
       "      <td>0</td>\n",
       "      <td>-1889569</td>\n",
       "      <td>0.0</td>\n",
       "      <td>0.0</td>\n",
       "      <td>110431.0</td>\n",
       "      <td>NaN</td>\n",
       "      <td>110431</td>\n",
       "    </tr>\n",
       "    <tr>\n",
       "      <th>9</th>\n",
       "      <td>3783302</td>\n",
       "      <td>2021-09-14 08:16:54</td>\n",
       "      <td>Male</td>\n",
       "      <td>Adult</td>\n",
       "      <td>Swasta</td>\n",
       "      <td>Middle Income</td>\n",
       "      <td>Did not use referral</td>\n",
       "      <td>Gaji</td>\n",
       "      <td>110431.0</td>\n",
       "      <td>1000000.0</td>\n",
       "      <td>...</td>\n",
       "      <td>NaN</td>\n",
       "      <td>NaN</td>\n",
       "      <td>NaN</td>\n",
       "      <td>0</td>\n",
       "      <td>0</td>\n",
       "      <td>0.0</td>\n",
       "      <td>0.0</td>\n",
       "      <td>110431.0</td>\n",
       "      <td>NaN</td>\n",
       "      <td>110431</td>\n",
       "    </tr>\n",
       "    <tr>\n",
       "      <th>10</th>\n",
       "      <td>3783302</td>\n",
       "      <td>2021-09-14 08:16:54</td>\n",
       "      <td>Male</td>\n",
       "      <td>Adult</td>\n",
       "      <td>Swasta</td>\n",
       "      <td>Middle Income</td>\n",
       "      <td>Did not use referral</td>\n",
       "      <td>Gaji</td>\n",
       "      <td>110431.0</td>\n",
       "      <td>1000000.0</td>\n",
       "      <td>...</td>\n",
       "      <td>NaN</td>\n",
       "      <td>NaN</td>\n",
       "      <td>NaN</td>\n",
       "      <td>0</td>\n",
       "      <td>0</td>\n",
       "      <td>0.0</td>\n",
       "      <td>0.0</td>\n",
       "      <td>110431.0</td>\n",
       "      <td>NaN</td>\n",
       "      <td>110431</td>\n",
       "    </tr>\n",
       "    <tr>\n",
       "      <th>52</th>\n",
       "      <td>3733536</td>\n",
       "      <td>2021-08-01 11:11:20</td>\n",
       "      <td>Female</td>\n",
       "      <td>Adult</td>\n",
       "      <td>Swasta</td>\n",
       "      <td>Lower Income</td>\n",
       "      <td>Did not use referral</td>\n",
       "      <td>Hasil Investasi</td>\n",
       "      <td>4914373.0</td>\n",
       "      <td>18724000.0</td>\n",
       "      <td>...</td>\n",
       "      <td>NaN</td>\n",
       "      <td>NaN</td>\n",
       "      <td>NaN</td>\n",
       "      <td>0</td>\n",
       "      <td>0</td>\n",
       "      <td>NaN</td>\n",
       "      <td>500000.0</td>\n",
       "      <td>NaN</td>\n",
       "      <td>NaN</td>\n",
       "      <td>500000</td>\n",
       "    </tr>\n",
       "  </tbody>\n",
       "</table>\n",
       "<p>5 rows × 27 columns</p>\n",
       "</div>"
      ],
      "text/plain": [
       "    user_id registration_import_datetime user_gender user_age user_occupation  \\\n",
       "0   3783302          2021-09-14 08:16:54        Male    Adult          Swasta   \n",
       "8   3783302          2021-09-14 08:16:54        Male    Adult          Swasta   \n",
       "9   3783302          2021-09-14 08:16:54        Male    Adult          Swasta   \n",
       "10  3783302          2021-09-14 08:16:54        Male    Adult          Swasta   \n",
       "52  3733536          2021-08-01 11:11:20      Female    Adult          Swasta   \n",
       "\n",
       "   user_income_range    referral_code_used user_income_source  \\\n",
       "0      Middle Income  Did not use referral               Gaji   \n",
       "8      Middle Income  Did not use referral               Gaji   \n",
       "9      Middle Income  Did not use referral               Gaji   \n",
       "10     Middle Income  Did not use referral               Gaji   \n",
       "52      Lower Income  Did not use referral    Hasil Investasi   \n",
       "\n",
       "    end_of_month_invested_amount  total_buy_amount  ...  \\\n",
       "0                       110431.0         1000000.0  ...   \n",
       "8                       110431.0         1000000.0  ...   \n",
       "9                       110431.0         1000000.0  ...   \n",
       "10                      110431.0         1000000.0  ...   \n",
       "52                     4914373.0        18724000.0  ...   \n",
       "\n",
       "    sell_pendapatan_tetap_transaction_amount buy_campuran_transaction_amount  \\\n",
       "0                                        NaN                             NaN   \n",
       "8                                  -949569.0                             NaN   \n",
       "9                                        NaN                             NaN   \n",
       "10                                       NaN                             NaN   \n",
       "52                                       NaN                             NaN   \n",
       "\n",
       "    sell_campuran_transaction_amount  total_buy_transaction_amount  \\\n",
       "0                                NaN                             0   \n",
       "8                                NaN                             0   \n",
       "9                                NaN                             0   \n",
       "10                               NaN                             0   \n",
       "52                               NaN                             0   \n",
       "\n",
       "    total_sell_transaction_amount  saham_invested_amount  \\\n",
       "0                               0               370000.0   \n",
       "8                        -1889569                    0.0   \n",
       "9                               0                    0.0   \n",
       "10                              0                    0.0   \n",
       "52                              0                    NaN   \n",
       "\n",
       "    pasar_uang_invested_amount  pendapatan_tetap_invested_amount  \\\n",
       "0                     100000.0                          530000.0   \n",
       "8                          0.0                          110431.0   \n",
       "9                          0.0                          110431.0   \n",
       "10                         0.0                          110431.0   \n",
       "52                    500000.0                               NaN   \n",
       "\n",
       "    campuran_invested_amount  total_invested_amount  \n",
       "0                        NaN                1000000  \n",
       "8                        NaN                 110431  \n",
       "9                        NaN                 110431  \n",
       "10                       NaN                 110431  \n",
       "52                       NaN                 500000  \n",
       "\n",
       "[5 rows x 27 columns]"
      ]
     },
     "execution_count": 56,
     "metadata": {},
     "output_type": "execute_result"
    }
   ],
   "source": [
    "# Make a copy of df_out_cleaned for EDA\n",
    "dfEDA = df_out_cleaned.copy()\n",
    "dfEDA.head()"
   ]
  },
  {
   "cell_type": "code",
   "execution_count": 57,
   "id": "6dad083b",
   "metadata": {},
   "outputs": [
    {
     "name": "stdout",
     "output_type": "stream",
     "text": [
      "<class 'pandas.core.frame.DataFrame'>\n",
      "Int64Index: 14014 entries, 0 to 18155\n",
      "Data columns (total 27 columns):\n",
      " #   Column                                    Non-Null Count  Dtype         \n",
      "---  ------                                    --------------  -----         \n",
      " 0   user_id                                   14014 non-null  object        \n",
      " 1   registration_import_datetime              14014 non-null  datetime64[ns]\n",
      " 2   user_gender                               14014 non-null  object        \n",
      " 3   user_age                                  14014 non-null  object        \n",
      " 4   user_occupation                           14014 non-null  object        \n",
      " 5   user_income_range                         14014 non-null  object        \n",
      " 6   referral_code_used                        14014 non-null  object        \n",
      " 7   user_income_source                        14014 non-null  object        \n",
      " 8   end_of_month_invested_amount              14014 non-null  float64       \n",
      " 9   total_buy_amount                          14014 non-null  float64       \n",
      " 10  total_sell_amount                         14014 non-null  float64       \n",
      " 11  date                                      14014 non-null  datetime64[ns]\n",
      " 12  buy_saham_transaction_amount              10842 non-null  float64       \n",
      " 13  sell_saham_transaction_amount             502 non-null    float64       \n",
      " 14  buy_pasar_uang_transaction_amount         12068 non-null  float64       \n",
      " 15  sell_pasar_uang_transaction_amount        455 non-null    float64       \n",
      " 16  buy_pendapatan_tetap_transaction_amount   10704 non-null  float64       \n",
      " 17  sell_pendapatan_tetap_transaction_amount  411 non-null    float64       \n",
      " 18  buy_campuran_transaction_amount           361 non-null    float64       \n",
      " 19  sell_campuran_transaction_amount          9 non-null      float64       \n",
      " 20  total_buy_transaction_amount              14014 non-null  int64         \n",
      " 21  total_sell_transaction_amount             14014 non-null  int64         \n",
      " 22  saham_invested_amount                     11923 non-null  float64       \n",
      " 23  pasar_uang_invested_amount                13134 non-null  float64       \n",
      " 24  pendapatan_tetap_invested_amount          11665 non-null  float64       \n",
      " 25  campuran_invested_amount                  393 non-null    float64       \n",
      " 26  total_invested_amount                     14014 non-null  int64         \n",
      "dtypes: datetime64[ns](2), float64(15), int64(3), object(7)\n",
      "memory usage: 3.0+ MB\n"
     ]
    }
   ],
   "source": [
    "dfEDA.info()"
   ]
  },
  {
   "cell_type": "markdown",
   "id": "01b23e13",
   "metadata": {},
   "source": [
    "## b. Descriptive Statistics"
   ]
  },
  {
   "cell_type": "markdown",
   "id": "abcb12b2",
   "metadata": {},
   "source": [
    "\n",
    "\n",
    "*   How many users do we have in the data?\n",
    "*   How is the demographic in the data?\n",
    "*   How many users buy products in each mutual fund?\n",
    "*   Which user ocupation made the highest total buy transaction amount?\n",
    "*   Which user age made the highest total buy transaction amount?\n",
    "*   Which user gender with the highest total amount of investment?"
   ]
  },
  {
   "cell_type": "markdown",
   "id": "10d0aef7",
   "metadata": {},
   "source": [
    "### 1. Descriptive information about numeric variables"
   ]
  },
  {
   "cell_type": "code",
   "execution_count": 58,
   "id": "56e27259",
   "metadata": {},
   "outputs": [
    {
     "data": {
      "text/html": [
       "<div>\n",
       "<style scoped>\n",
       "    .dataframe tbody tr th:only-of-type {\n",
       "        vertical-align: middle;\n",
       "    }\n",
       "\n",
       "    .dataframe tbody tr th {\n",
       "        vertical-align: top;\n",
       "    }\n",
       "\n",
       "    .dataframe thead th {\n",
       "        text-align: right;\n",
       "    }\n",
       "</style>\n",
       "<table border=\"1\" class=\"dataframe\">\n",
       "  <thead>\n",
       "    <tr style=\"text-align: right;\">\n",
       "      <th></th>\n",
       "      <th>end_of_month_invested_amount</th>\n",
       "      <th>saham_invested_amount</th>\n",
       "      <th>pasar_uang_invested_amount</th>\n",
       "      <th>pendapatan_tetap_invested_amount</th>\n",
       "      <th>campuran_invested_amount</th>\n",
       "      <th>total_invested_amount</th>\n",
       "    </tr>\n",
       "  </thead>\n",
       "  <tbody>\n",
       "    <tr>\n",
       "      <th>count</th>\n",
       "      <td>14014.000</td>\n",
       "      <td>11923.000</td>\n",
       "      <td>13134.000</td>\n",
       "      <td>11665.000</td>\n",
       "      <td>393.000</td>\n",
       "      <td>14014.000</td>\n",
       "    </tr>\n",
       "    <tr>\n",
       "      <th>mean</th>\n",
       "      <td>1465954.670</td>\n",
       "      <td>133889.460</td>\n",
       "      <td>117385.760</td>\n",
       "      <td>141134.130</td>\n",
       "      <td>573282.440</td>\n",
       "      <td>357480.960</td>\n",
       "    </tr>\n",
       "    <tr>\n",
       "      <th>std</th>\n",
       "      <td>22679064.250</td>\n",
       "      <td>190865.150</td>\n",
       "      <td>208519.860</td>\n",
       "      <td>191386.880</td>\n",
       "      <td>465148.830</td>\n",
       "      <td>378731.280</td>\n",
       "    </tr>\n",
       "    <tr>\n",
       "      <th>min</th>\n",
       "      <td>114.000</td>\n",
       "      <td>0.000</td>\n",
       "      <td>0.000</td>\n",
       "      <td>0.000</td>\n",
       "      <td>0.000</td>\n",
       "      <td>0.000</td>\n",
       "    </tr>\n",
       "    <tr>\n",
       "      <th>25%</th>\n",
       "      <td>100000.000</td>\n",
       "      <td>10000.000</td>\n",
       "      <td>10000.000</td>\n",
       "      <td>25000.000</td>\n",
       "      <td>100000.000</td>\n",
       "      <td>100000.000</td>\n",
       "    </tr>\n",
       "    <tr>\n",
       "      <th>50%</th>\n",
       "      <td>270000.000</td>\n",
       "      <td>60000.000</td>\n",
       "      <td>40000.000</td>\n",
       "      <td>70000.000</td>\n",
       "      <td>500000.000</td>\n",
       "      <td>200000.000</td>\n",
       "    </tr>\n",
       "    <tr>\n",
       "      <th>75%</th>\n",
       "      <td>750000.000</td>\n",
       "      <td>180000.000</td>\n",
       "      <td>110000.000</td>\n",
       "      <td>185000.000</td>\n",
       "      <td>1000000.000</td>\n",
       "      <td>500000.000</td>\n",
       "    </tr>\n",
       "    <tr>\n",
       "      <th>max</th>\n",
       "      <td>800000751.000</td>\n",
       "      <td>1600000.000</td>\n",
       "      <td>1600000.000</td>\n",
       "      <td>1500000.000</td>\n",
       "      <td>1500000.000</td>\n",
       "      <td>1600000.000</td>\n",
       "    </tr>\n",
       "    <tr>\n",
       "      <th>kurtosis</th>\n",
       "      <td>1207.020</td>\n",
       "      <td>7.780</td>\n",
       "      <td>13.720</td>\n",
       "      <td>7.420</td>\n",
       "      <td>-1.330</td>\n",
       "      <td>1.000</td>\n",
       "    </tr>\n",
       "    <tr>\n",
       "      <th>skewness</th>\n",
       "      <td>34.490</td>\n",
       "      <td>2.520</td>\n",
       "      <td>3.390</td>\n",
       "      <td>2.470</td>\n",
       "      <td>0.240</td>\n",
       "      <td>1.370</td>\n",
       "    </tr>\n",
       "    <tr>\n",
       "      <th>variance</th>\n",
       "      <td>514339955152874.250</td>\n",
       "      <td>36429503886.720</td>\n",
       "      <td>43480531518.630</td>\n",
       "      <td>36628937496.510</td>\n",
       "      <td>216363432777.690</td>\n",
       "      <td>143437385120.750</td>\n",
       "    </tr>\n",
       "  </tbody>\n",
       "</table>\n",
       "</div>"
      ],
      "text/plain": [
       "          end_of_month_invested_amount  saham_invested_amount  \\\n",
       "count                        14014.000              11923.000   \n",
       "mean                       1465954.670             133889.460   \n",
       "std                       22679064.250             190865.150   \n",
       "min                            114.000                  0.000   \n",
       "25%                         100000.000              10000.000   \n",
       "50%                         270000.000              60000.000   \n",
       "75%                         750000.000             180000.000   \n",
       "max                      800000751.000            1600000.000   \n",
       "kurtosis                      1207.020                  7.780   \n",
       "skewness                        34.490                  2.520   \n",
       "variance           514339955152874.250        36429503886.720   \n",
       "\n",
       "          pasar_uang_invested_amount  pendapatan_tetap_invested_amount  \\\n",
       "count                      13134.000                         11665.000   \n",
       "mean                      117385.760                        141134.130   \n",
       "std                       208519.860                        191386.880   \n",
       "min                            0.000                             0.000   \n",
       "25%                        10000.000                         25000.000   \n",
       "50%                        40000.000                         70000.000   \n",
       "75%                       110000.000                        185000.000   \n",
       "max                      1600000.000                       1500000.000   \n",
       "kurtosis                      13.720                             7.420   \n",
       "skewness                       3.390                             2.470   \n",
       "variance             43480531518.630                   36628937496.510   \n",
       "\n",
       "          campuran_invested_amount  total_invested_amount  \n",
       "count                      393.000              14014.000  \n",
       "mean                    573282.440             357480.960  \n",
       "std                     465148.830             378731.280  \n",
       "min                          0.000                  0.000  \n",
       "25%                     100000.000             100000.000  \n",
       "50%                     500000.000             200000.000  \n",
       "75%                    1000000.000             500000.000  \n",
       "max                    1500000.000            1600000.000  \n",
       "kurtosis                    -1.330                  1.000  \n",
       "skewness                     0.240                  1.370  \n",
       "variance          216363432777.690       143437385120.750  "
      ]
     },
     "execution_count": 58,
     "metadata": {},
     "output_type": "execute_result"
    }
   ],
   "source": [
    "#Descriptive analysis after treating the outlier\n",
    "pd.set_option('display.float_format', lambda x: '%.3f' % x)\n",
    "\n",
    "num = ['end_of_month_invested_amount', 'saham_invested_amount', 'pasar_uang_invested_amount', \n",
    "'pendapatan_tetap_invested_amount', 'campuran_invested_amount', 'total_invested_amount' ]\n",
    "\n",
    "desc_eda = dfEDA[num].describe()\n",
    "desc_eda.loc['kurtosis'] = dfEDA[num].kurt() #show kurtosis statistic\n",
    "desc_eda.loc['skewness'] = dfEDA[num].skew() #show Skewness statistic\n",
    "desc_eda.loc['variance'] = dfEDA[num].var() #show variance statistic\n",
    "desc_eda.round(2)"
   ]
  },
  {
   "cell_type": "markdown",
   "id": "cc44cbc9",
   "metadata": {},
   "source": [
    "**Insight**\n",
    "*   The average number of total invested amout is 357481 USD, the median is 200000, with minumum of 0 and the maximum is 1600000\n",
    "*   This output displays that the highest median of amount invested is from **Pendapatan Tetap** compared to the others which amounted to 70000 USD.\n",
    "*   On average, the amount of saham invested is 133889.460 USD, with minimum of 0 and maximum of 1600000.\n",
    "*   The average amount of pasar uang invested is 117385.760, the median is 40000, and the maximum amount is 1600000\n",
    "*   The average amount of pendapatan tetap invested is 141134.130, the median is 70000, and the maximum amount is 1500000\n",
    "*   The average amount of campuran invested is 573282.440, the median is 500000, and the maximum amount is 1500000"
   ]
  },
  {
   "cell_type": "markdown",
   "id": "6a9ba0a9",
   "metadata": {},
   "source": [
    "### 2. Descriptive information about string variables"
   ]
  },
  {
   "cell_type": "code",
   "execution_count": 59,
   "id": "e921046a",
   "metadata": {},
   "outputs": [
    {
     "data": {
      "text/html": [
       "<div>\n",
       "<style scoped>\n",
       "    .dataframe tbody tr th:only-of-type {\n",
       "        vertical-align: middle;\n",
       "    }\n",
       "\n",
       "    .dataframe tbody tr th {\n",
       "        vertical-align: top;\n",
       "    }\n",
       "\n",
       "    .dataframe thead th {\n",
       "        text-align: right;\n",
       "    }\n",
       "</style>\n",
       "<table border=\"1\" class=\"dataframe\">\n",
       "  <thead>\n",
       "    <tr style=\"text-align: right;\">\n",
       "      <th></th>\n",
       "      <th>user_id</th>\n",
       "      <th>user_gender</th>\n",
       "      <th>user_age</th>\n",
       "      <th>user_occupation</th>\n",
       "      <th>user_income_range</th>\n",
       "      <th>referral_code_used</th>\n",
       "      <th>user_income_source</th>\n",
       "    </tr>\n",
       "  </thead>\n",
       "  <tbody>\n",
       "    <tr>\n",
       "      <th>count</th>\n",
       "      <td>14014</td>\n",
       "      <td>14014</td>\n",
       "      <td>14014</td>\n",
       "      <td>14014</td>\n",
       "      <td>14014</td>\n",
       "      <td>14014</td>\n",
       "      <td>14014</td>\n",
       "    </tr>\n",
       "    <tr>\n",
       "      <th>unique</th>\n",
       "      <td>671</td>\n",
       "      <td>2</td>\n",
       "      <td>3</td>\n",
       "      <td>3</td>\n",
       "      <td>3</td>\n",
       "      <td>2</td>\n",
       "      <td>9</td>\n",
       "    </tr>\n",
       "    <tr>\n",
       "      <th>top</th>\n",
       "      <td>3732132</td>\n",
       "      <td>Male</td>\n",
       "      <td>Young Adult</td>\n",
       "      <td>Pelajar</td>\n",
       "      <td>Lower Income</td>\n",
       "      <td>Did not use referral</td>\n",
       "      <td>Gaji</td>\n",
       "    </tr>\n",
       "    <tr>\n",
       "      <th>freq</th>\n",
       "      <td>42</td>\n",
       "      <td>9291</td>\n",
       "      <td>10716</td>\n",
       "      <td>8108</td>\n",
       "      <td>10944</td>\n",
       "      <td>10259</td>\n",
       "      <td>8627</td>\n",
       "    </tr>\n",
       "  </tbody>\n",
       "</table>\n",
       "</div>"
      ],
      "text/plain": [
       "        user_id user_gender     user_age user_occupation user_income_range  \\\n",
       "count     14014       14014        14014           14014             14014   \n",
       "unique      671           2            3               3                 3   \n",
       "top     3732132        Male  Young Adult         Pelajar      Lower Income   \n",
       "freq         42        9291        10716            8108             10944   \n",
       "\n",
       "          referral_code_used user_income_source  \n",
       "count                  14014              14014  \n",
       "unique                     2                  9  \n",
       "top     Did not use referral               Gaji  \n",
       "freq                   10259               8627  "
      ]
     },
     "execution_count": 59,
     "metadata": {},
     "output_type": "execute_result"
    }
   ],
   "source": [
    "str_objects = ['user_id',\n",
    "               'user_gender',\n",
    "               'user_age',\n",
    "               'user_occupation',\n",
    "               'user_income_range',\n",
    "               'referral_code_used',\n",
    "               'user_income_source',\n",
    "               ]\n",
    "            \n",
    "dfEDA[str_objects].describe()"
   ]
  },
  {
   "cell_type": "markdown",
   "id": "762a9017",
   "metadata": {},
   "source": [
    "**Insight:**\n",
    "\n",
    "*   The number of user id is 14014 users, with 671 unique user IDs\n",
    "*   User with id of 3732132 made transactions for 42 times\n",
    "*   Our customer is dominated by **Male** users with frequcy of 9291 users\n",
    "*   **Young Adult** is the top group of our user age with freq of 10716\n",
    "*   Our users occupation is dominated by **Pelajar** with freq of 8108 users\n",
    "*   User income range is dominated by **Lower Income** group which come from 10944 users \n",
    "*   10259 users **did not use referral**\n",
    "*   Income source is topped by **Gaji** used by 8627 users"
   ]
  },
  {
   "cell_type": "markdown",
   "id": "77e70f77",
   "metadata": {},
   "source": [
    "### 3. Descriptive information about date variables"
   ]
  },
  {
   "cell_type": "code",
   "execution_count": 60,
   "id": "fa5d617c",
   "metadata": {},
   "outputs": [
    {
     "name": "stderr",
     "output_type": "stream",
     "text": [
      "C:\\Users\\HP\\AppData\\Local\\Temp\\ipykernel_9556\\3402732473.py:1: FutureWarning: Treating datetime data as categorical rather than numeric in `.describe` is deprecated and will be removed in a future version of pandas. Specify `datetime_is_numeric=True` to silence this warning and adopt the future behavior now.\n",
      "  dfEDA['registration_import_datetime'].describe()\n"
     ]
    },
    {
     "data": {
      "text/plain": [
       "count                   14014\n",
       "unique                    657\n",
       "top       2021-08-15 16:56:15\n",
       "freq                       62\n",
       "first     2021-08-01 00:11:14\n",
       "last      2021-09-24 10:41:45\n",
       "Name: registration_import_datetime, dtype: object"
      ]
     },
     "execution_count": 60,
     "metadata": {},
     "output_type": "execute_result"
    }
   ],
   "source": [
    "dfEDA['registration_import_datetime'].describe()"
   ]
  },
  {
   "cell_type": "markdown",
   "id": "bc759044",
   "metadata": {},
   "source": [
    "**Insight:** The data used from date 2021-08-01 to 2021-09-24."
   ]
  },
  {
   "cell_type": "markdown",
   "id": "101d2fb1",
   "metadata": {},
   "source": [
    "### 4. Number of customers in the data"
   ]
  },
  {
   "cell_type": "code",
   "execution_count": 61,
   "id": "6cde1154",
   "metadata": {},
   "outputs": [
    {
     "data": {
      "text/plain": [
       "671"
      ]
     },
     "execution_count": 61,
     "metadata": {},
     "output_type": "execute_result"
    }
   ],
   "source": [
    "# Calculating the number of customers\n",
    "\n",
    "dfEDA['user_id'].nunique()"
   ]
  },
  {
   "cell_type": "markdown",
   "id": "0a6082a5",
   "metadata": {},
   "source": [
    "**Insight:**\n",
    "\n",
    "\n",
    "> There are 671 users invested in mutual funds from Agust 2021 to September 2021"
   ]
  },
  {
   "cell_type": "markdown",
   "id": "4fb33740",
   "metadata": {},
   "source": [
    "### 5. Demographic of The Data\n",
    "\n",
    "> Demographic data is often utilized to understand the composition of a population and to identify patterns and trends that may be related to specific demographic groups. It usually refers to age, gender, education level, income, employment status, etc.\n"
   ]
  },
  {
   "cell_type": "code",
   "execution_count": 62,
   "id": "e2f2bf41",
   "metadata": {},
   "outputs": [
    {
     "name": "stdout",
     "output_type": "stream",
     "text": [
      "Male      473\n",
      "Female    257\n",
      "Name: user_gender, dtype: int64 \n",
      "\n",
      "Young Adult    526\n",
      "Adult          203\n",
      "Older Adult      1\n",
      "Name: user_age, dtype: int64 \n",
      "\n",
      "Pelajar    395\n",
      "Swasta     185\n",
      "Others     150\n",
      "Name: user_occupation, dtype: int64 \n",
      "\n",
      "Lower Income     519\n",
      "Middle Income    200\n",
      "Higher Income     11\n",
      "Name: user_income_range, dtype: int64 \n",
      "\n",
      "Gaji                     476\n",
      "Undian                    94\n",
      "Keuntungan Bisnis         73\n",
      "Dari Orang Tua / Anak     32\n",
      "Tabungan                  24\n",
      "Lainnya                   17\n",
      "Hasil Investasi            8\n",
      "Dari Suami / istri         4\n",
      "Warisan                    2\n",
      "Name: user_income_source, dtype: int64 \n",
      "\n"
     ]
    }
   ],
   "source": [
    "# Exploring the users demographic\n",
    "\n",
    "for col_name in ['user_gender', 'user_age',\n",
    "       'user_occupation', 'user_income_range',\n",
    "       'user_income_source']:\n",
    "    print(df_user[col_name].value_counts(), '\\n')"
   ]
  },
  {
   "cell_type": "markdown",
   "id": "543fffac",
   "metadata": {},
   "source": [
    "**Insight:**\n",
    "\n",
    "\n",
    "*   There are 473 Male users and 257 Female users\n",
    "*   User age is dominated by Young Adult by 526 users. Followed by adult by 203 users, and lastly by older adult by 1 user\n",
    "*   User occupation is dominated by **Pelajar** by 395 users, second highest is **Swasta** by 185 users, and the third is Other occupation by 150 users\n",
    "*   Most of our users come from **Lower income** group by 519 users, followed by Middle income group by 200 users, and the last Higher income group by 11 users\n",
    "*   **Gaji** is the highest income source used by our users which is 476 users, followed by **Undian** by 94 users and **Keuntungan bisnis** by 73 users."
   ]
  },
  {
   "cell_type": "markdown",
   "id": "7f010039",
   "metadata": {},
   "source": [
    "### 6. Number of Users Purchased a Product in Each Mutual Fund"
   ]
  },
  {
   "cell_type": "code",
   "execution_count": 63,
   "id": "6f057b6f",
   "metadata": {},
   "outputs": [
    {
     "name": "stdout",
     "output_type": "stream",
     "text": [
      "Number of users who made a purchase for buy_saham_transaction_amount:\n",
      "587\n",
      "Number of users who made a purchase for buy_pasar_uang_transaction_amount:\n",
      "621\n",
      "Number of users who made a purchase for buy_pendapatan_tetap_transaction_amount:\n",
      "561\n",
      "Number of users who made a purchase for buy_campuran_transaction_amount:\n",
      "24\n"
     ]
    }
   ],
   "source": [
    "# To find the number of users who made a purchase for every mutual fund type\n",
    "\n",
    "for col in ['buy_saham_transaction_amount', \n",
    "            'buy_pasar_uang_transaction_amount', \n",
    "            'buy_pendapatan_tetap_transaction_amount', \n",
    "            'buy_campuran_transaction_amount']:\n",
    "    print(f\"Number of users who made a purchase for {col}:\")\n",
    "    print(dfEDA.loc[dfEDA[col].notnull(), 'user_id'].nunique())"
   ]
  },
  {
   "cell_type": "markdown",
   "id": "962974a1",
   "metadata": {},
   "source": [
    "**Insight:**\n",
    "As shown by the output above, ***pasar uang*** is the most bought type of mutual fund by 621 users. Followed by ***saham*** by 587 users, then ***pendapatan tetap*** by 561 users, and the last who bought ***campuran*** by only 24 users. \n",
    "\n",
    "**Recommendation:**\n",
    "Since many of our users buy ***Pasar Uang***, it is recommended to offer certain promotion or discount for them for multiple transactions. It is expected to attract more users to make a purchase that eventually will increase our profit."
   ]
  },
  {
   "cell_type": "markdown",
   "id": "9e67137c",
   "metadata": {},
   "source": [
    "### 7. User occupation made the highest total buy transaction amount"
   ]
  },
  {
   "cell_type": "code",
   "execution_count": 64,
   "id": "bd326b86",
   "metadata": {},
   "outputs": [
    {
     "data": {
      "text/plain": [
       "Pelajar    8108\n",
       "Swasta     3302\n",
       "Others     2604\n",
       "Name: user_occupation, dtype: int64"
      ]
     },
     "execution_count": 64,
     "metadata": {},
     "output_type": "execute_result"
    }
   ],
   "source": [
    "dfEDA['user_occupation'].value_counts()"
   ]
  },
  {
   "cell_type": "code",
   "execution_count": 65,
   "id": "49be9d74",
   "metadata": {},
   "outputs": [
    {
     "name": "stdout",
     "output_type": "stream",
     "text": [
      "                 total_buy_amount  user_id\n",
      "user_occupation                           \n",
      "Swasta            13140281973.000      163\n",
      "Pelajar            6551127085.000      375\n",
      "Others             4283508127.000      133\n"
     ]
    }
   ],
   "source": [
    "# To group user occupation based on 'total_buy_amount' sorted (DESC) and number of unique user_id\n",
    "\n",
    "user_occup_tot= dfEDA.groupby(['user_occupation', 'user_id'])['total_buy_amount'].sum().reset_index().groupby('user_occupation').agg({'total_buy_amount': 'sum', 'user_id': 'nunique'}).sort_values('total_buy_amount', ascending=False)\n",
    "print(user_occup_tot)"
   ]
  },
  {
   "cell_type": "markdown",
   "id": "15562377",
   "metadata": {},
   "source": [
    "**Insight:** As we can see, **Swasta** is the user occupation that made the highest buy amount which amounting to 13140281973 by 163 unique users. Followed by **Pelajar** as the second highest with the total buy amount of 6551127085 by 375 unique users, and so on.\n",
    "\n",
    "**Recommendation**: From the output above, even though **Pelajar** is the occupation of our users who made the second highest total buy amount, this age group is the one that made the most transactions. Therefore, it is recommended to offer them certain campaign or discounts as they more likely do not make money by themselves yet. Moreover, focusing on giving improved service to *swasta* age group to keep them using our service as well as attract more of them, therefore our profit will be increased."
   ]
  },
  {
   "cell_type": "markdown",
   "id": "8d18c3b5",
   "metadata": {},
   "source": [
    "### 8. Age Group That Made The Highest Purchase"
   ]
  },
  {
   "cell_type": "code",
   "execution_count": 66,
   "id": "ea0bb554",
   "metadata": {
    "scrolled": true
   },
   "outputs": [
    {
     "name": "stdout",
     "output_type": "stream",
     "text": [
      "             total_buy_amount  user_id\n",
      "user_age                              \n",
      "Adult         15424647525.000      176\n",
      "Young Adult    8550094660.000      494\n",
      "Older Adult        175000.000        1\n"
     ]
    },
    {
     "name": "stderr",
     "output_type": "stream",
     "text": [
      "C:\\Users\\HP\\AppData\\Local\\Temp\\ipykernel_9556\\2144818768.py:3: FutureWarning: Indexing with multiple keys (implicitly converted to a tuple of keys) will be deprecated, use a list instead.\n",
      "  age_group_tot= dfEDA.groupby(['user_age', 'user_id'])['total_buy_amount'].sum().reset_index().groupby('user_age')['total_buy_amount', 'user_id'].agg({'total_buy_amount': 'sum', 'user_id': 'nunique'}).sort_values('total_buy_amount', ascending=False)\n"
     ]
    }
   ],
   "source": [
    "# To group user age based on 'total_buy_amount' sorted (DESC) and number of unique user_id\n",
    "\n",
    "age_group_tot= dfEDA.groupby(['user_age', 'user_id'])['total_buy_amount'].sum().reset_index().groupby('user_age')['total_buy_amount', 'user_id'].agg({'total_buy_amount': 'sum', 'user_id': 'nunique'}).sort_values('total_buy_amount', ascending=False)\n",
    "print(age_group_tot)"
   ]
  },
  {
   "cell_type": "code",
   "execution_count": null,
   "id": "efe7a709",
   "metadata": {},
   "outputs": [],
   "source": []
  },
  {
   "cell_type": "markdown",
   "id": "985f69a6",
   "metadata": {},
   "source": [
    "**Insight:**\n",
    "The output above shows that users who made the highest purchase are from Adult age group with the total buy amount of 15424647525 and total unique users of 176 users. The second highest is from Young Adult group and the lowest is from Older Adult group. This situation happened might be because Adults are experienced in investing industries. They tend to diversify their portfolio by investing in a more secure instrument than stocks like mutual fund. On the other hand, young adult group has slightly lower total buy amount than adult group because this age group more likely have not made money by themselves.\n",
    "\n",
    "\n",
    "**Recommendation** Therefore, I recommend the company to give any special offers for the Adults as this age group made the highest purhcase amount of mutual fund and we intend to increase the number by attracting them with interesting offers. For example, giving discounts or cash back.\n"
   ]
  },
  {
   "cell_type": "markdown",
   "id": "d1a88464",
   "metadata": {},
   "source": [
    "### 9. User Gender with the Highest Total Investment"
   ]
  },
  {
   "cell_type": "code",
   "execution_count": 67,
   "id": "faaec00d",
   "metadata": {},
   "outputs": [
    {
     "name": "stdout",
     "output_type": "stream",
     "text": [
      "             total_invested_amount  user_id\n",
      "user_gender                                \n",
      "Male                    3327791387      440\n",
      "Female                  1681946730      231\n"
     ]
    },
    {
     "name": "stderr",
     "output_type": "stream",
     "text": [
      "C:\\Users\\HP\\AppData\\Local\\Temp\\ipykernel_9556\\2643575390.py:2: FutureWarning: Indexing with multiple keys (implicitly converted to a tuple of keys) will be deprecated, use a list instead.\n",
      "  user_gender_tot = dfEDA.groupby(['user_gender', 'user_id'])['total_invested_amount'].sum().reset_index().groupby('user_gender')['total_invested_amount', 'user_id'].agg({'total_invested_amount': 'sum', 'user_id': 'nunique'}).sort_values('total_invested_amount', ascending=False)\n"
     ]
    }
   ],
   "source": [
    "# To find which gender that has the highest total amount invested\n",
    "user_gender_tot = dfEDA.groupby(['user_gender', 'user_id'])['total_invested_amount'].sum().reset_index().groupby('user_gender')['total_invested_amount', 'user_id'].agg({'total_invested_amount': 'sum', 'user_id': 'nunique'}).sort_values('total_invested_amount', ascending=False)\n",
    "print(user_gender_tot)"
   ]
  },
  {
   "cell_type": "markdown",
   "id": "684e6540",
   "metadata": {},
   "source": [
    "**Insight:** The output above shows that Male is the gander that invests with the highest total amount, at 3327791387 by 440 unique user ids. On the other hand, Female invests slightly lower than Male which amounting to 1681946730 by 231 unique user ids.\n",
    "\n",
    "**Recommendation**: Since the total investment amount of both genders are relatively high, we can focus on giving better service and offers to keep these users and even attract new users to invest."
   ]
  },
  {
   "cell_type": "markdown",
   "id": "e482437a",
   "metadata": {},
   "source": [
    "## c. Finfing Patterns"
   ]
  },
  {
   "cell_type": "markdown",
   "id": "7bf6c7c5",
   "metadata": {},
   "source": [
    "1. Trend on the transaction\n",
    "2. Transaction trends for each product"
   ]
  },
  {
   "cell_type": "markdown",
   "id": "fd693792",
   "metadata": {},
   "source": [
    "#### a. Trend on transaction amount by monthly and daily"
   ]
  },
  {
   "cell_type": "markdown",
   "id": "6b56a96b",
   "metadata": {},
   "source": [
    "#### 1.Total buy transaction trend"
   ]
  },
  {
   "cell_type": "markdown",
   "id": "7f37ee57",
   "metadata": {},
   "source": [
    "- Monthly"
   ]
  },
  {
   "cell_type": "code",
   "execution_count": 68,
   "id": "0fda5416",
   "metadata": {},
   "outputs": [
    {
     "name": "stderr",
     "output_type": "stream",
     "text": [
      "C:\\Users\\HP\\AppData\\Local\\Temp\\ipykernel_9556\\1267070366.py:3: SettingWithCopyWarning: \n",
      "A value is trying to be set on a copy of a slice from a DataFrame.\n",
      "Try using .loc[row_indexer,col_indexer] = value instead\n",
      "\n",
      "See the caveats in the documentation: https://pandas.pydata.org/pandas-docs/stable/user_guide/indexing.html#returning-a-view-versus-a-copy\n",
      "  buy_trend['year_month'] = buy_trend['date'].dt.strftime('%Y/%m')   #Change the date into year,month format to get monthly data\n"
     ]
    },
    {
     "data": {
      "text/html": [
       "<div>\n",
       "<style scoped>\n",
       "    .dataframe tbody tr th:only-of-type {\n",
       "        vertical-align: middle;\n",
       "    }\n",
       "\n",
       "    .dataframe tbody tr th {\n",
       "        vertical-align: top;\n",
       "    }\n",
       "\n",
       "    .dataframe thead th {\n",
       "        text-align: right;\n",
       "    }\n",
       "</style>\n",
       "<table border=\"1\" class=\"dataframe\">\n",
       "  <thead>\n",
       "    <tr style=\"text-align: right;\">\n",
       "      <th></th>\n",
       "      <th>year_month</th>\n",
       "      <th>total_buy_transaction_amount</th>\n",
       "    </tr>\n",
       "  </thead>\n",
       "  <tbody>\n",
       "    <tr>\n",
       "      <th>0</th>\n",
       "      <td>2021/08</td>\n",
       "      <td>66444397</td>\n",
       "    </tr>\n",
       "    <tr>\n",
       "      <th>1</th>\n",
       "      <td>2021/09</td>\n",
       "      <td>176861765</td>\n",
       "    </tr>\n",
       "  </tbody>\n",
       "</table>\n",
       "</div>"
      ],
      "text/plain": [
       "  year_month  total_buy_transaction_amount\n",
       "0    2021/08                      66444397\n",
       "1    2021/09                     176861765"
      ]
     },
     "execution_count": 68,
     "metadata": {},
     "output_type": "execute_result"
    }
   ],
   "source": [
    "# Find the buy trend on monthly\n",
    "buy_trend = dfEDA[['date', 'total_buy_transaction_amount']]    #Choose the variables needed to make the chart\n",
    "buy_trend['year_month'] = buy_trend['date'].dt.strftime('%Y/%m')   #Change the date into year,month format to get monthly data\n",
    "\n",
    "buy_trend = buy_trend.sort_values('date')  #Sort the values by the date on ascending\n",
    "buy_trend = buy_trend.groupby('year_month').sum() #sum the data and group it by the year_month\n",
    "buy_trend = buy_trend.reset_index()\n",
    "buy_trend.head()"
   ]
  },
  {
   "cell_type": "code",
   "execution_count": 69,
   "id": "b608bdb0",
   "metadata": {},
   "outputs": [
    {
     "data": {
      "image/png": "[encoded data removed]",
      "text/plain": [
       "<Figure size 2500x800 with 1 Axes>"
      ]
     },
     "metadata": {},
     "output_type": "display_data"
    }
   ],
   "source": [
    "# Monthly Line Chart\n",
    "plt.figure(figsize =(25, 8))\n",
    "\n",
    "plt.xticks(rotation = 90)\n",
    "plt.plot(buy_trend['year_month'], buy_trend['total_buy_transaction_amount'])\n",
    "\n",
    "plt.show()"
   ]
  },
  {
   "cell_type": "markdown",
   "id": "a44f2805",
   "metadata": {},
   "source": [
    "- Daily"
   ]
  },
  {
   "cell_type": "code",
   "execution_count": 70,
   "id": "2501e708",
   "metadata": {},
   "outputs": [
    {
     "name": "stderr",
     "output_type": "stream",
     "text": [
      "C:\\Users\\HP\\AppData\\Local\\Temp\\ipykernel_9556\\980790928.py:4: SettingWithCopyWarning: \n",
      "A value is trying to be set on a copy of a slice from a DataFrame.\n",
      "Try using .loc[row_indexer,col_indexer] = value instead\n",
      "\n",
      "See the caveats in the documentation: https://pandas.pydata.org/pandas-docs/stable/user_guide/indexing.html#returning-a-view-versus-a-copy\n",
      "  daily_buy_trend['daily'] = daily_buy_trend['date'].dt.strftime('%d')   #Change the date into day format for to get daily data\n"
     ]
    },
    {
     "data": {
      "text/html": [
       "<div>\n",
       "<style scoped>\n",
       "    .dataframe tbody tr th:only-of-type {\n",
       "        vertical-align: middle;\n",
       "    }\n",
       "\n",
       "    .dataframe tbody tr th {\n",
       "        vertical-align: top;\n",
       "    }\n",
       "\n",
       "    .dataframe thead th {\n",
       "        text-align: right;\n",
       "    }\n",
       "</style>\n",
       "<table border=\"1\" class=\"dataframe\">\n",
       "  <thead>\n",
       "    <tr style=\"text-align: right;\">\n",
       "      <th></th>\n",
       "      <th>daily</th>\n",
       "      <th>total_buy_transaction_amount</th>\n",
       "    </tr>\n",
       "  </thead>\n",
       "  <tbody>\n",
       "    <tr>\n",
       "      <th>0</th>\n",
       "      <td>01</td>\n",
       "      <td>12598771</td>\n",
       "    </tr>\n",
       "    <tr>\n",
       "      <th>1</th>\n",
       "      <td>02</td>\n",
       "      <td>4456875</td>\n",
       "    </tr>\n",
       "    <tr>\n",
       "      <th>2</th>\n",
       "      <td>03</td>\n",
       "      <td>9036527</td>\n",
       "    </tr>\n",
       "    <tr>\n",
       "      <th>3</th>\n",
       "      <td>04</td>\n",
       "      <td>0</td>\n",
       "    </tr>\n",
       "    <tr>\n",
       "      <th>4</th>\n",
       "      <td>05</td>\n",
       "      <td>650000</td>\n",
       "    </tr>\n",
       "  </tbody>\n",
       "</table>\n",
       "</div>"
      ],
      "text/plain": [
       "  daily  total_buy_transaction_amount\n",
       "0    01                      12598771\n",
       "1    02                       4456875\n",
       "2    03                       9036527\n",
       "3    04                             0\n",
       "4    05                        650000"
      ]
     },
     "execution_count": 70,
     "metadata": {},
     "output_type": "execute_result"
    }
   ],
   "source": [
    "# Chechking for daily buy transaction trend\n",
    "\n",
    "daily_buy_trend = dfEDA[['date', 'total_buy_transaction_amount']]    #Choose the variable needed to make the chart\n",
    "daily_buy_trend['daily'] = daily_buy_trend['date'].dt.strftime('%d')   #Change the date into day format for to get daily data\n",
    "\n",
    "daily_buy_trend = daily_buy_trend.sort_values('date')  #Sort the values by the date on ascending\n",
    "daily_buy_trend = daily_buy_trend.groupby('daily').sum() #sum the data and group it by the daily\n",
    "daily_buy_trend = daily_buy_trend.reset_index()\n",
    "\n",
    "daily_buy_trend.head()"
   ]
  },
  {
   "cell_type": "code",
   "execution_count": 71,
   "id": "a46e8992",
   "metadata": {},
   "outputs": [
    {
     "data": {
      "image/png": "[encoded data removed]",
      "text/plain": [
       "<Figure size 2500x800 with 1 Axes>"
      ]
     },
     "metadata": {},
     "output_type": "display_data"
    }
   ],
   "source": [
    "plt.figure(figsize =(25, 8))\n",
    "\n",
    "plt.xticks(rotation = 90)\n",
    "plt.plot(daily_buy_trend['daily'], daily_buy_trend['total_buy_transaction_amount'])\n",
    "\n",
    "plt.show()"
   ]
  },
  {
   "cell_type": "markdown",
   "id": "33f758a7",
   "metadata": {},
   "source": [
    "**Insight:**\n",
    "- By monthly, we can see that the trend is an up-trend, from 66444397 on August 2021 to 176861765 on September 2021. This indicates that more users invested in mutual funds on this date range. It might be caused by the needs of our users to earn passive income or to generate better returns than the interest given by saving bank accounts.\n",
    "- By daily,  there is no specific trend shown. However, for both months on date 30, those were the date where our users bought the highest amount of mutual funds\n",
    "\n",
    "**Recommendation:**\n",
    "Since the highest amount of buy transaction happened on the end of a month, giving a marketing campaign on this date is expected to be successful."
   ]
  },
  {
   "cell_type": "markdown",
   "id": "5e76181c",
   "metadata": {},
   "source": [
    "#### 2. Total sell transaction trend"
   ]
  },
  {
   "cell_type": "markdown",
   "id": "09d44ccb",
   "metadata": {},
   "source": [
    "- Monthly"
   ]
  },
  {
   "cell_type": "code",
   "execution_count": 72,
   "id": "33530402",
   "metadata": {},
   "outputs": [
    {
     "name": "stderr",
     "output_type": "stream",
     "text": [
      "C:\\Users\\HP\\AppData\\Local\\Temp\\ipykernel_9556\\862317222.py:2: SettingWithCopyWarning: \n",
      "A value is trying to be set on a copy of a slice from a DataFrame.\n",
      "Try using .loc[row_indexer,col_indexer] = value instead\n",
      "\n",
      "See the caveats in the documentation: https://pandas.pydata.org/pandas-docs/stable/user_guide/indexing.html#returning-a-view-versus-a-copy\n",
      "  sell_trend['ym'] = sell_trend['date'].dt.strftime('%Y/%m')   #Change the date into year,month format to get monthly data\n"
     ]
    },
    {
     "data": {
      "text/html": [
       "<div>\n",
       "<style scoped>\n",
       "    .dataframe tbody tr th:only-of-type {\n",
       "        vertical-align: middle;\n",
       "    }\n",
       "\n",
       "    .dataframe tbody tr th {\n",
       "        vertical-align: top;\n",
       "    }\n",
       "\n",
       "    .dataframe thead th {\n",
       "        text-align: right;\n",
       "    }\n",
       "</style>\n",
       "<table border=\"1\" class=\"dataframe\">\n",
       "  <thead>\n",
       "    <tr style=\"text-align: right;\">\n",
       "      <th></th>\n",
       "      <th>ym</th>\n",
       "      <th>total_sell_transaction_amount</th>\n",
       "    </tr>\n",
       "  </thead>\n",
       "  <tbody>\n",
       "    <tr>\n",
       "      <th>0</th>\n",
       "      <td>2021/08</td>\n",
       "      <td>-69593600</td>\n",
       "    </tr>\n",
       "    <tr>\n",
       "      <th>1</th>\n",
       "      <td>2021/09</td>\n",
       "      <td>-390641234</td>\n",
       "    </tr>\n",
       "  </tbody>\n",
       "</table>\n",
       "</div>"
      ],
      "text/plain": [
       "        ym  total_sell_transaction_amount\n",
       "0  2021/08                      -69593600\n",
       "1  2021/09                     -390641234"
      ]
     },
     "execution_count": 72,
     "metadata": {},
     "output_type": "execute_result"
    }
   ],
   "source": [
    "sell_trend = dfEDA[['date', 'total_sell_transaction_amount']]    #Choose the variables needed to make the chart\n",
    "sell_trend['ym'] = sell_trend['date'].dt.strftime('%Y/%m')   #Change the date into year,month format to get monthly data\n",
    "\n",
    "sell_trend = sell_trend.sort_values('date', ascending=False)  #Sort the values by the date on descending\n",
    "sell_trend = sell_trend.groupby('ym').sum() #sum the data and group it by the year_month\n",
    "sell_trend = sell_trend.reset_index()\n",
    "sell_trend.head()"
   ]
  },
  {
   "cell_type": "code",
   "execution_count": 73,
   "id": "88b1a983",
   "metadata": {},
   "outputs": [
    {
     "data": {
      "image/png": "[encoded data removed]",
      "text/plain": [
       "<Figure size 2500x800 with 1 Axes>"
      ]
     },
     "metadata": {},
     "output_type": "display_data"
    }
   ],
   "source": [
    "plt.figure(figsize =(25, 8))\n",
    "\n",
    "plt.xticks(rotation = 90)\n",
    "plt.plot(sell_trend['ym'], sell_trend['total_sell_transaction_amount'])\n",
    "\n",
    "plt.show()"
   ]
  },
  {
   "cell_type": "markdown",
   "id": "d1aa75a8",
   "metadata": {},
   "source": [
    "- Daily"
   ]
  },
  {
   "cell_type": "code",
   "execution_count": 74,
   "id": "3047d4b3",
   "metadata": {},
   "outputs": [
    {
     "name": "stderr",
     "output_type": "stream",
     "text": [
      "C:\\Users\\HP\\AppData\\Local\\Temp\\ipykernel_9556\\2486368058.py:4: SettingWithCopyWarning: \n",
      "A value is trying to be set on a copy of a slice from a DataFrame.\n",
      "Try using .loc[row_indexer,col_indexer] = value instead\n",
      "\n",
      "See the caveats in the documentation: https://pandas.pydata.org/pandas-docs/stable/user_guide/indexing.html#returning-a-view-versus-a-copy\n",
      "  daily_sell_trend['daily'] = daily_sell_trend['date'].dt.strftime('%d')   #Change the date into day format for to get daily data\n"
     ]
    },
    {
     "data": {
      "text/html": [
       "<div>\n",
       "<style scoped>\n",
       "    .dataframe tbody tr th:only-of-type {\n",
       "        vertical-align: middle;\n",
       "    }\n",
       "\n",
       "    .dataframe tbody tr th {\n",
       "        vertical-align: top;\n",
       "    }\n",
       "\n",
       "    .dataframe thead th {\n",
       "        text-align: right;\n",
       "    }\n",
       "</style>\n",
       "<table border=\"1\" class=\"dataframe\">\n",
       "  <thead>\n",
       "    <tr style=\"text-align: right;\">\n",
       "      <th></th>\n",
       "      <th>daily</th>\n",
       "      <th>total_sell_transaction_amount</th>\n",
       "    </tr>\n",
       "  </thead>\n",
       "  <tbody>\n",
       "    <tr>\n",
       "      <th>0</th>\n",
       "      <td>01</td>\n",
       "      <td>-4788487</td>\n",
       "    </tr>\n",
       "    <tr>\n",
       "      <th>1</th>\n",
       "      <td>02</td>\n",
       "      <td>-23814137</td>\n",
       "    </tr>\n",
       "    <tr>\n",
       "      <th>2</th>\n",
       "      <td>03</td>\n",
       "      <td>-4689820</td>\n",
       "    </tr>\n",
       "    <tr>\n",
       "      <th>3</th>\n",
       "      <td>04</td>\n",
       "      <td>0</td>\n",
       "    </tr>\n",
       "    <tr>\n",
       "      <th>4</th>\n",
       "      <td>05</td>\n",
       "      <td>0</td>\n",
       "    </tr>\n",
       "  </tbody>\n",
       "</table>\n",
       "</div>"
      ],
      "text/plain": [
       "  daily  total_sell_transaction_amount\n",
       "0    01                       -4788487\n",
       "1    02                      -23814137\n",
       "2    03                       -4689820\n",
       "3    04                              0\n",
       "4    05                              0"
      ]
     },
     "execution_count": 74,
     "metadata": {},
     "output_type": "execute_result"
    }
   ],
   "source": [
    "# Chechking for daily sell transaction trend\n",
    "\n",
    "daily_sell_trend = dfEDA[['date', 'total_sell_transaction_amount']]    #Choose the variable needed to make the chart\n",
    "daily_sell_trend['daily'] = daily_sell_trend['date'].dt.strftime('%d')   #Change the date into day format for to get daily data\n",
    "\n",
    "daily_sell_trend = daily_sell_trend.sort_values('date')  #Sort the values by the date on ascending\n",
    "daily_sell_trend = daily_sell_trend.groupby('daily').sum() #sum the data and group it by daily\n",
    "daily_sell_trend = daily_sell_trend.reset_index()\n",
    "\n",
    "daily_sell_trend.head()"
   ]
  },
  {
   "cell_type": "code",
   "execution_count": 75,
   "id": "095acd3d",
   "metadata": {},
   "outputs": [
    {
     "data": {
      "image/png": "[encoded data removed]",
      "text/plain": [
       "<Figure size 2500x800 with 1 Axes>"
      ]
     },
     "metadata": {},
     "output_type": "display_data"
    }
   ],
   "source": [
    "plt.figure(figsize =(25, 8))\n",
    "\n",
    "plt.xticks(rotation = 90)\n",
    "plt.plot(daily_sell_trend['daily'], daily_sell_trend['total_sell_transaction_amount'])\n",
    "\n",
    "plt.show()"
   ]
  },
  {
   "cell_type": "markdown",
   "id": "000e56d4",
   "metadata": {},
   "source": [
    "**Insight:**\n",
    "\n",
    "- By monthly, we can see that the trend is a down-trend, from -69593600 on August 2021 to -390641234 on September 2021. This indicates that more peole sold their mutual funds on this date range. It might be caused by the ecconomic situation in Indonesia in 2021, as we were still in the middle of a pandamiic. People were selling their investment in order to fund their businesses or living costs.\n",
    "- By daily,  there is no specific trend shown. However, on date 28 in both months there was a big amount sold by our users at -1.2.\n",
    "\n",
    "**Recommendation:**\n",
    "It is recommended to make more appealing marketing campaign at the end of every month to keep the users invest with us.\n",
    "\n",
    "\n",
    "\n"
   ]
  },
  {
   "cell_type": "markdown",
   "id": "3b5bf7da",
   "metadata": {},
   "source": [
    "#### b.Trend on each mutual funds"
   ]
  },
  {
   "cell_type": "markdown",
   "id": "2abe2f8f",
   "metadata": {},
   "source": [
    "#### 1. Which user occupation has the highest invested amount in saham"
   ]
  },
  {
   "cell_type": "code",
   "execution_count": 76,
   "id": "22bfafe6",
   "metadata": {},
   "outputs": [],
   "source": [
    "occ_df = dfEDA.copy()\n",
    "# Drop null values from the saham_invested_amount column\n",
    "occ_df = occ_df.dropna(subset=['saham_invested_amount'])\n",
    "\n",
    "# Group the data by occupation and sum the saham invested amount for each occupation\n",
    "occupation_saham = occ_df.groupby('user_occupation')['saham_invested_amount'].sum()\n",
    "\n",
    "# Sort the saham invested amounts in descending order\n",
    "occupation_saham = occupation_saham.sort_values(ascending=False)"
   ]
  },
  {
   "cell_type": "code",
   "execution_count": 77,
   "id": "852fa284",
   "metadata": {},
   "outputs": [
    {
     "data": {
      "image/png": "[encoded data removed]",
      "text/plain": [
       "<Figure size 640x480 with 1 Axes>"
      ]
     },
     "metadata": {},
     "output_type": "display_data"
    }
   ],
   "source": [
    "# Create a bar chart to display the results\n",
    "occupation_saham.plot(kind='bar')\n",
    "plt.xlabel('Occupation')\n",
    "plt.ylabel('Saham Invested Amount')\n",
    "plt.title('Saham Investment by Occupation')\n",
    "plt.show()"
   ]
  },
  {
   "cell_type": "markdown",
   "id": "9fc301a3",
   "metadata": {},
   "source": [
    "**Insight:**\n",
    "- **Pelajar** is the user occupation that has the highest investment amount in Stock\n"
   ]
  },
  {
   "cell_type": "markdown",
   "id": "786b6776",
   "metadata": {},
   "source": [
    "#### 2. Age trend for each mutual funds invested amount"
   ]
  },
  {
   "cell_type": "code",
   "execution_count": 78,
   "id": "284e7f20",
   "metadata": {},
   "outputs": [
    {
     "name": "stdout",
     "output_type": "stream",
     "text": [
      "<class 'pandas.core.frame.DataFrame'>\n",
      "Int64Index: 14014 entries, 0 to 18155\n",
      "Data columns (total 27 columns):\n",
      " #   Column                                    Non-Null Count  Dtype         \n",
      "---  ------                                    --------------  -----         \n",
      " 0   user_id                                   14014 non-null  object        \n",
      " 1   registration_import_datetime              14014 non-null  datetime64[ns]\n",
      " 2   user_gender                               14014 non-null  object        \n",
      " 3   user_age                                  14014 non-null  object        \n",
      " 4   user_occupation                           14014 non-null  object        \n",
      " 5   user_income_range                         14014 non-null  object        \n",
      " 6   referral_code_used                        14014 non-null  object        \n",
      " 7   user_income_source                        14014 non-null  object        \n",
      " 8   end_of_month_invested_amount              14014 non-null  float64       \n",
      " 9   total_buy_amount                          14014 non-null  float64       \n",
      " 10  total_sell_amount                         14014 non-null  float64       \n",
      " 11  date                                      14014 non-null  datetime64[ns]\n",
      " 12  buy_saham_transaction_amount              10842 non-null  float64       \n",
      " 13  sell_saham_transaction_amount             502 non-null    float64       \n",
      " 14  buy_pasar_uang_transaction_amount         12068 non-null  float64       \n",
      " 15  sell_pasar_uang_transaction_amount        455 non-null    float64       \n",
      " 16  buy_pendapatan_tetap_transaction_amount   10704 non-null  float64       \n",
      " 17  sell_pendapatan_tetap_transaction_amount  411 non-null    float64       \n",
      " 18  buy_campuran_transaction_amount           361 non-null    float64       \n",
      " 19  sell_campuran_transaction_amount          9 non-null      float64       \n",
      " 20  total_buy_transaction_amount              14014 non-null  int64         \n",
      " 21  total_sell_transaction_amount             14014 non-null  int64         \n",
      " 22  saham_invested_amount                     11923 non-null  float64       \n",
      " 23  pasar_uang_invested_amount                13134 non-null  float64       \n",
      " 24  pendapatan_tetap_invested_amount          11665 non-null  float64       \n",
      " 25  campuran_invested_amount                  393 non-null    float64       \n",
      " 26  total_invested_amount                     14014 non-null  int64         \n",
      "dtypes: datetime64[ns](2), float64(15), int64(3), object(7)\n",
      "memory usage: 3.0+ MB\n"
     ]
    }
   ],
   "source": [
    "dfEDA.info()"
   ]
  },
  {
   "cell_type": "code",
   "execution_count": 79,
   "id": "ab62e242",
   "metadata": {},
   "outputs": [
    {
     "name": "stderr",
     "output_type": "stream",
     "text": [
      "C:\\Users\\HP\\AppData\\Local\\Temp\\ipykernel_9556\\4115255691.py:6: SettingWithCopyWarning: \n",
      "A value is trying to be set on a copy of a slice from a DataFrame.\n",
      "Try using .loc[row_indexer,col_indexer] = value instead\n",
      "\n",
      "See the caveats in the documentation: https://pandas.pydata.org/pandas-docs/stable/user_guide/indexing.html#returning-a-view-versus-a-copy\n",
      "  age_trend['date'] = age_trend['date'].dt.strftime('%Y/%m')\n"
     ]
    },
    {
     "data": {
      "text/html": [
       "<div>\n",
       "<style scoped>\n",
       "    .dataframe tbody tr th:only-of-type {\n",
       "        vertical-align: middle;\n",
       "    }\n",
       "\n",
       "    .dataframe tbody tr th {\n",
       "        vertical-align: top;\n",
       "    }\n",
       "\n",
       "    .dataframe thead th {\n",
       "        text-align: right;\n",
       "    }\n",
       "</style>\n",
       "<table border=\"1\" class=\"dataframe\">\n",
       "  <thead>\n",
       "    <tr style=\"text-align: right;\">\n",
       "      <th></th>\n",
       "      <th>date</th>\n",
       "      <th>user_age</th>\n",
       "      <th>saham_invested_amount</th>\n",
       "      <th>pasar_uang_invested_amount</th>\n",
       "      <th>pendapatan_tetap_invested_amount</th>\n",
       "      <th>campuran_invested_amount</th>\n",
       "    </tr>\n",
       "  </thead>\n",
       "  <tbody>\n",
       "    <tr>\n",
       "      <th>0</th>\n",
       "      <td>2021/09</td>\n",
       "      <td>Adult</td>\n",
       "      <td>370000.000</td>\n",
       "      <td>100000.000</td>\n",
       "      <td>530000.000</td>\n",
       "      <td>NaN</td>\n",
       "    </tr>\n",
       "    <tr>\n",
       "      <th>8</th>\n",
       "      <td>2021/09</td>\n",
       "      <td>Adult</td>\n",
       "      <td>0.000</td>\n",
       "      <td>0.000</td>\n",
       "      <td>110431.000</td>\n",
       "      <td>NaN</td>\n",
       "    </tr>\n",
       "    <tr>\n",
       "      <th>9</th>\n",
       "      <td>2021/09</td>\n",
       "      <td>Adult</td>\n",
       "      <td>0.000</td>\n",
       "      <td>0.000</td>\n",
       "      <td>110431.000</td>\n",
       "      <td>NaN</td>\n",
       "    </tr>\n",
       "    <tr>\n",
       "      <th>10</th>\n",
       "      <td>2021/09</td>\n",
       "      <td>Adult</td>\n",
       "      <td>0.000</td>\n",
       "      <td>0.000</td>\n",
       "      <td>110431.000</td>\n",
       "      <td>NaN</td>\n",
       "    </tr>\n",
       "    <tr>\n",
       "      <th>52</th>\n",
       "      <td>2021/08</td>\n",
       "      <td>Adult</td>\n",
       "      <td>NaN</td>\n",
       "      <td>500000.000</td>\n",
       "      <td>NaN</td>\n",
       "      <td>NaN</td>\n",
       "    </tr>\n",
       "  </tbody>\n",
       "</table>\n",
       "</div>"
      ],
      "text/plain": [
       "       date user_age  saham_invested_amount  pasar_uang_invested_amount  \\\n",
       "0   2021/09    Adult             370000.000                  100000.000   \n",
       "8   2021/09    Adult                  0.000                       0.000   \n",
       "9   2021/09    Adult                  0.000                       0.000   \n",
       "10  2021/09    Adult                  0.000                       0.000   \n",
       "52  2021/08    Adult                    NaN                  500000.000   \n",
       "\n",
       "    pendapatan_tetap_invested_amount  campuran_invested_amount  \n",
       "0                         530000.000                       NaN  \n",
       "8                         110431.000                       NaN  \n",
       "9                         110431.000                       NaN  \n",
       "10                        110431.000                       NaN  \n",
       "52                               NaN                       NaN  "
      ]
     },
     "execution_count": 79,
     "metadata": {},
     "output_type": "execute_result"
    }
   ],
   "source": [
    "# Pick variable that wanted to be analyzed\n",
    "age_trend = dfEDA[['date', 'user_age','saham_invested_amount', 'pasar_uang_invested_amount', \n",
    "                     'pendapatan_tetap_invested_amount', 'campuran_invested_amount']]   \n",
    "\n",
    "# Change the format into year-month\n",
    "age_trend['date'] = age_trend['date'].dt.strftime('%Y/%m')    \n",
    "age_trend.head()"
   ]
  },
  {
   "cell_type": "code",
   "execution_count": 80,
   "id": "119f7405",
   "metadata": {},
   "outputs": [
    {
     "data": {
      "text/html": [
       "<div>\n",
       "<style scoped>\n",
       "    .dataframe tbody tr th:only-of-type {\n",
       "        vertical-align: middle;\n",
       "    }\n",
       "\n",
       "    .dataframe tbody tr th {\n",
       "        vertical-align: top;\n",
       "    }\n",
       "\n",
       "    .dataframe thead tr th {\n",
       "        text-align: left;\n",
       "    }\n",
       "</style>\n",
       "<table border=\"1\" class=\"dataframe\">\n",
       "  <thead>\n",
       "    <tr>\n",
       "      <th></th>\n",
       "      <th>date</th>\n",
       "      <th colspan=\"3\" halign=\"left\">campuran_invested_amount</th>\n",
       "      <th colspan=\"3\" halign=\"left\">pasar_uang_invested_amount</th>\n",
       "      <th colspan=\"3\" halign=\"left\">pendapatan_tetap_invested_amount</th>\n",
       "      <th colspan=\"3\" halign=\"left\">saham_invested_amount</th>\n",
       "    </tr>\n",
       "    <tr>\n",
       "      <th>user_age</th>\n",
       "      <th></th>\n",
       "      <th>Adult</th>\n",
       "      <th>Older Adult</th>\n",
       "      <th>Young Adult</th>\n",
       "      <th>Adult</th>\n",
       "      <th>Older Adult</th>\n",
       "      <th>Young Adult</th>\n",
       "      <th>Adult</th>\n",
       "      <th>Older Adult</th>\n",
       "      <th>Young Adult</th>\n",
       "      <th>Adult</th>\n",
       "      <th>Older Adult</th>\n",
       "      <th>Young Adult</th>\n",
       "    </tr>\n",
       "  </thead>\n",
       "  <tbody>\n",
       "    <tr>\n",
       "      <th>0</th>\n",
       "      <td>2021/08</td>\n",
       "      <td>19600000.000</td>\n",
       "      <td>NaN</td>\n",
       "      <td>75500000.000</td>\n",
       "      <td>93157343.000</td>\n",
       "      <td>NaN</td>\n",
       "      <td>298298886.000</td>\n",
       "      <td>140870972.000</td>\n",
       "      <td>NaN</td>\n",
       "      <td>256845162.000</td>\n",
       "      <td>123457633.000</td>\n",
       "      <td>NaN</td>\n",
       "      <td>278890746.000</td>\n",
       "    </tr>\n",
       "    <tr>\n",
       "      <th>1</th>\n",
       "      <td>2021/09</td>\n",
       "      <td>25300000.000</td>\n",
       "      <td>0.000</td>\n",
       "      <td>104900000.000</td>\n",
       "      <td>236684727.000</td>\n",
       "      <td>0.000</td>\n",
       "      <td>913603557.000</td>\n",
       "      <td>375574146.000</td>\n",
       "      <td>235000.000</td>\n",
       "      <td>872804307.000</td>\n",
       "      <td>358434337.000</td>\n",
       "      <td>133516.000</td>\n",
       "      <td>835447785.000</td>\n",
       "    </tr>\n",
       "  </tbody>\n",
       "</table>\n",
       "</div>"
      ],
      "text/plain": [
       "             date campuran_invested_amount                            \\\n",
       "user_age                             Adult Older Adult   Young Adult   \n",
       "0         2021/08             19600000.000         NaN  75500000.000   \n",
       "1         2021/09             25300000.000       0.000 104900000.000   \n",
       "\n",
       "         pasar_uang_invested_amount                            \\\n",
       "user_age                      Adult Older Adult   Young Adult   \n",
       "0                      93157343.000         NaN 298298886.000   \n",
       "1                     236684727.000       0.000 913603557.000   \n",
       "\n",
       "         pendapatan_tetap_invested_amount                            \\\n",
       "user_age                            Adult Older Adult   Young Adult   \n",
       "0                           140870972.000         NaN 256845162.000   \n",
       "1                           375574146.000  235000.000 872804307.000   \n",
       "\n",
       "         saham_invested_amount                            \n",
       "user_age                 Adult Older Adult   Young Adult  \n",
       "0                123457633.000         NaN 278890746.000  \n",
       "1                358434337.000  133516.000 835447785.000  "
      ]
     },
     "execution_count": 80,
     "metadata": {},
     "output_type": "execute_result"
    }
   ],
   "source": [
    "# Change the user_age into a column using pivot\n",
    "age_trend_pivot = age_trend.pivot_table(index = 'date', columns='user_age', values = ['saham_invested_amount', \n",
    "                                                                                      'pasar_uang_invested_amount', \n",
    "                                                                                      'pendapatan_tetap_invested_amount',\n",
    "                                                                                      'campuran_invested_amount'],aggfunc = 'sum') # Pivot the table and sum if there is a duplicate found\n",
    "age_trend_pivot = age_trend_pivot.reset_index() \n",
    "age_trend_pivot.head()"
   ]
  },
  {
   "cell_type": "code",
   "execution_count": 81,
   "id": "e0231e38",
   "metadata": {},
   "outputs": [
    {
     "data": {
      "text/plain": [
       "[('date', ''),\n",
       " ('campuran_invested_amount', 'Adult'),\n",
       " ('campuran_invested_amount', 'Older Adult'),\n",
       " ('campuran_invested_amount', 'Young Adult'),\n",
       " ('pasar_uang_invested_amount', 'Adult'),\n",
       " ('pasar_uang_invested_amount', 'Older Adult'),\n",
       " ('pasar_uang_invested_amount', 'Young Adult'),\n",
       " ('pendapatan_tetap_invested_amount', 'Adult'),\n",
       " ('pendapatan_tetap_invested_amount', 'Older Adult'),\n",
       " ('pendapatan_tetap_invested_amount', 'Young Adult'),\n",
       " ('saham_invested_amount', 'Adult'),\n",
       " ('saham_invested_amount', 'Older Adult'),\n",
       " ('saham_invested_amount', 'Young Adult')]"
      ]
     },
     "execution_count": 81,
     "metadata": {},
     "output_type": "execute_result"
    }
   ],
   "source": [
    "# Make a list of the columns\n",
    "age_trend_pivot.columns.to_list()"
   ]
  },
  {
   "cell_type": "code",
   "execution_count": 82,
   "id": "7247716e",
   "metadata": {},
   "outputs": [
    {
     "data": {
      "image/png": "[encoded data removed]",
      "text/plain": [
       "<Figure size 3000x800 with 1 Axes>"
      ]
     },
     "metadata": {},
     "output_type": "display_data"
    }
   ],
   "source": [
    "#Create line chart\n",
    "plt.figure(figsize =(30, 8))\n",
    "axis = age_trend_pivot.columns.tolist()\n",
    "#axis.head()\n",
    "\n",
    "for x in axis[1:]:    \n",
    "  plt.plot(age_trend_pivot['date'], age_trend_pivot[x])\n",
    "\n",
    "plt.xticks(rotation = 90)\n",
    "plt.legend(age_trend_pivot.iloc[:,1:],loc = 2)\n",
    "\n",
    "plt.show()"
   ]
  },
  {
   "cell_type": "markdown",
   "id": "0d76321a",
   "metadata": {},
   "source": [
    "**Insight:**\n",
    "The graph above shows that Young Adult group has the highest amount of investment especially in **Pasar Uang** as shown by the dark purple line and amounted to 75500000 on Aug 2021 and 104900000 on Sept 2021. Moreover, the second highest amount was invested in Stock by Young Adult amounted to 256845162 on Aug 2021 and 872804307 on Sept 2021. On the other hand, the lowest amount invested was in mixed-fund by Adult group which amounted to 19600000 on Aug 2021 and 25300000 on Sept 2021.\n",
    "\n",
    "\n",
    "**Recommendation:**\n",
    "Since young adults and students (pelajar) dominate our user's demographic, it is recommended to give a special treatment to this group. By offering attractive promotions according to their lifestyle. For example, giving referral discounts. Young adults are really close to the technology and the internet, so sharing information is effortless. Therefore, showing a marketing campaign about referral discounts on their application interface will trigger them to share about our service, and eventually this campaign will benefit us financially."
   ]
  }
 ],
 "metadata": {
  "kernelspec": {
   "display_name": "Python 3 (ipykernel)",
   "language": "python",
   "name": "python3"
  },
  "language_info": {
   "codemirror_mode": {
    "name": "ipython",
    "version": 3
   },
   "file_extension": ".py",
   "mimetype": "text/x-python",
   "name": "python",
   "nbconvert_exporter": "python",
   "pygments_lexer": "ipython3",
   "version": "3.9.13"
  }
 },
 "nbformat": 4,
 "nbformat_minor": 5
}
